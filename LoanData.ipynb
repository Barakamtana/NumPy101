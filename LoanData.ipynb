{
 "cells": [
  {
   "cell_type": "code",
   "execution_count": 1,
   "id": "b98f5985",
   "metadata": {},
   "outputs": [],
   "source": [
    "import numpy as np"
   ]
  },
  {
   "cell_type": "code",
   "execution_count": 2,
   "id": "81ff301d",
   "metadata": {},
   "outputs": [],
   "source": [
    "filepath = \"C:\\\\Users\\\\LENOVO\\\\Downloads\\\\loan-data.csv\""
   ]
  },
  {
   "cell_type": "code",
   "execution_count": 3,
   "id": "3b182452",
   "metadata": {},
   "outputs": [],
   "source": [
    "## Remove scientific notation, \n",
    "##linewidhth to avoid characters from displaying in 2 rows\n",
    "## precision to only display 2 decimals\n",
    "np.set_printoptions(suppress = True, linewidth = 100, precision = True)"
   ]
  },
  {
   "cell_type": "code",
   "execution_count": 4,
   "id": "01d026b1",
   "metadata": {},
   "outputs": [
    {
     "data": {
      "text/plain": [
       "array([[       nan,        nan,        nan, ...,        nan,        nan,        nan],\n",
       "       [48010226. ,        nan,    35000. , ...,        nan,        nan,     9453. ],\n",
       "       [57693261. ,        nan,    30000. , ...,        nan,        nan,     4679.7],\n",
       "       ...,\n",
       "       [50415990. ,        nan,    10000. , ...,        nan,        nan,     2185.6],\n",
       "       [46154151. ,        nan,        nan, ...,        nan,        nan,     3199.4],\n",
       "       [66055249. ,        nan,    10000. , ...,        nan,        nan,      301.9]])"
      ]
     },
     "execution_count": 4,
     "metadata": {},
     "output_type": "execute_result"
    }
   ],
   "source": [
    "## Data frame with header\n",
    "loan_data_org = np.genfromtxt(filepath, \n",
    "                         delimiter = \";\",\n",
    "                         autostrip = True)\n",
    "loan_data_org"
   ]
  },
  {
   "cell_type": "code",
   "execution_count": 5,
   "id": "e71eb9f5",
   "metadata": {},
   "outputs": [],
   "source": [
    "## Skip header removes the 1st column of the data set\n",
    "## autostrip removes excess whitespaces\n",
    "loan_data = np.genfromtxt(filepath, \n",
    "                         delimiter = \";\",\n",
    "                         skip_header = True,\n",
    "                         autostrip = True)"
   ]
  },
  {
   "cell_type": "code",
   "execution_count": 6,
   "id": "361e8e9f",
   "metadata": {},
   "outputs": [
    {
     "name": "stderr",
     "output_type": "stream",
     "text": [
      "C:\\Users\\LENOVO\\AppData\\Local\\Temp\\ipykernel_12008\\3642933820.py:3: RuntimeWarning: Mean of empty slice\n",
      "  temporary_mean = np.nanmean(loan_data, axis = 0)\n"
     ]
    }
   ],
   "source": [
    "## Check for missing value\n",
    "temporary_fill = np.nanmax(loan_data) + 2\n",
    "temporary_mean = np.nanmean(loan_data, axis = 0)"
   ]
  },
  {
   "cell_type": "code",
   "execution_count": 7,
   "id": "dbb88e4d",
   "metadata": {},
   "outputs": [
    {
     "data": {
      "text/plain": [
       "array([54015809.2,        nan,    15273.5,        nan,    15311. ,        nan,       16.6,\n",
       "            440.9,        nan,        nan,        nan,        nan,        nan,     3143.9])"
      ]
     },
     "execution_count": 7,
     "metadata": {},
     "output_type": "execute_result"
    }
   ],
   "source": [
    "## Checking if there is any column with non numeric data completely\n",
    "## nan means the column mean in not a number thus we can tell the column with nana have string character\n",
    "temporary_mean"
   ]
  },
  {
   "cell_type": "code",
   "execution_count": 8,
   "id": "0983e993",
   "metadata": {},
   "outputs": [
    {
     "name": "stderr",
     "output_type": "stream",
     "text": [
      "C:\\Users\\LENOVO\\AppData\\Local\\Temp\\ipykernel_12008\\3800549580.py:2: RuntimeWarning: All-NaN slice encountered\n",
      "  temporary_stats = np.array([np.nanmin(loan_data, axis = 0),\n",
      "C:\\Users\\LENOVO\\AppData\\Local\\Temp\\ipykernel_12008\\3800549580.py:3: RuntimeWarning: Mean of empty slice\n",
      "  np.nanmean(loan_data, axis = 0),\n",
      "C:\\Users\\LENOVO\\AppData\\Local\\Temp\\ipykernel_12008\\3800549580.py:4: RuntimeWarning: All-NaN slice encountered\n",
      "  np.nanmax(loan_data, axis = 0)])\n"
     ]
    },
    {
     "data": {
      "text/plain": [
       "array([[  373332. ,        nan,     1000. ,        nan,     1000. ,        nan,        6. ,\n",
       "              31.4,        nan,        nan,        nan,        nan,        nan,        0. ],\n",
       "       [54015809.2,        nan,    15273.5,        nan,    15311. ,        nan,       16.6,\n",
       "             440.9,        nan,        nan,        nan,        nan,        nan,     3143.9],\n",
       "       [68616519. ,        nan,    35000. ,        nan,    35000. ,        nan,       29. ,\n",
       "            1373. ,        nan,        nan,        nan,        nan,        nan,    41913.6]])"
      ]
     },
     "execution_count": 8,
     "metadata": {},
     "output_type": "execute_result"
    }
   ],
   "source": [
    "## Check for a few stats along axis 0 ie columns\n",
    "temporary_stats = np.array([np.nanmin(loan_data, axis = 0),\n",
    "                           np.nanmean(loan_data, axis = 0),\n",
    "                           np.nanmax(loan_data, axis = 0)])\n",
    "temporary_stats"
   ]
  },
  {
   "cell_type": "markdown",
   "id": "458965f1",
   "metadata": {},
   "source": [
    "## We want to seperate the column with \"str\" from those with \"int\" "
   ]
  },
  {
   "cell_type": "code",
   "execution_count": 9,
   "id": "1214a438",
   "metadata": {},
   "outputs": [
    {
     "data": {
      "text/plain": [
       "array([ 1,  3,  5,  8,  9, 10, 11, 12], dtype=int64)"
      ]
     },
     "execution_count": 9,
     "metadata": {},
     "output_type": "execute_result"
    }
   ],
   "source": [
    "## We'll use the temporary_mean variable to tell the columns with nill value\n",
    "## Return columns with string characters only\n",
    "## To display the output in a row we use squeeze methods\n",
    "string_column = np.argwhere(np.isnan(temporary_mean)).squeeze()\n",
    "string_column"
   ]
  },
  {
   "cell_type": "code",
   "execution_count": 10,
   "id": "724b4282",
   "metadata": {},
   "outputs": [
    {
     "data": {
      "text/plain": [
       "array([ 0,  2,  4,  6,  7, 13], dtype=int64)"
      ]
     },
     "execution_count": 10,
     "metadata": {},
     "output_type": "execute_result"
    }
   ],
   "source": [
    "## To do the same with columns with int\n",
    "int_col = np.argwhere(np.isnan(temporary_mean) == False).squeeze()\n",
    "int_col"
   ]
  },
  {
   "cell_type": "code",
   "execution_count": 11,
   "id": "ccb80890",
   "metadata": {},
   "outputs": [
    {
     "data": {
      "text/plain": [
       "array([['May-15', 'Current', '36 months', ..., 'Verified',\n",
       "        'https://www.lendingclub.com/browse/loanDetail.action?loan_id=48010226', 'CA'],\n",
       "       ['', 'Current', '36 months', ..., 'Source Verified',\n",
       "        'https://www.lendingclub.com/browse/loanDetail.action?loan_id=57693261', 'NY'],\n",
       "       ['Sep-15', 'Current', '36 months', ..., 'Verified',\n",
       "        'https://www.lendingclub.com/browse/loanDetail.action?loan_id=59432726', 'PA'],\n",
       "       ...,\n",
       "       ['Jun-15', 'Current', '36 months', ..., 'Source Verified',\n",
       "        'https://www.lendingclub.com/browse/loanDetail.action?loan_id=50415990', 'CA'],\n",
       "       ['Apr-15', 'Current', '36 months', ..., 'Source Verified',\n",
       "        'https://www.lendingclub.com/browse/loanDetail.action?loan_id=46154151', 'OH'],\n",
       "       ['Dec-15', 'Current', '36 months', ..., '',\n",
       "        'https://www.lendingclub.com/browse/loanDetail.action?loan_id=66055249', 'IL']],\n",
       "      dtype='<U69')"
      ]
     },
     "execution_count": 11,
     "metadata": {},
     "output_type": "execute_result"
    }
   ],
   "source": [
    "## Lets create an array with only string characters\n",
    "loan_data_str = np.genfromtxt(filepath,\n",
    "                             delimiter = \";\",\n",
    "                             skip_header = True,\n",
    "                             autostrip = True,\n",
    "                             usecols = string_column,\n",
    "                             dtype =  str)\n",
    "loan_data_str"
   ]
  },
  {
   "cell_type": "code",
   "execution_count": 12,
   "id": "e8a5df49",
   "metadata": {},
   "outputs": [
    {
     "data": {
      "text/plain": [
       "array([[48010226,    35000,    35000,       13,     1184,     9452],\n",
       "       [57693261,    30000,    30000, 68616521,      938,     4679],\n",
       "       [59432726,    15000,    15000, 68616521,      494,     1969],\n",
       "       ...,\n",
       "       [50415990,    10000,    10000, 68616521, 68616521,     2185],\n",
       "       [46154151, 68616521,    10000,       16,      354,     3199],\n",
       "       [66055249,    10000,    10000, 68616521,      309,      301]])"
      ]
     },
     "execution_count": 12,
     "metadata": {},
     "output_type": "execute_result"
    }
   ],
   "source": [
    "## Lets create an array with only string characters\n",
    "loan_data_int = np.genfromtxt(filepath,\n",
    "                             delimiter = \";\",\n",
    "                             skip_header = True,\n",
    "                             autostrip = True,\n",
    "                             usecols = int_col,\n",
    "                             dtype =  np.int32, \n",
    "                             filling_values = temporary_fill)\n",
    "loan_data_int"
   ]
  },
  {
   "cell_type": "code",
   "execution_count": 13,
   "id": "8ecd417e",
   "metadata": {},
   "outputs": [
    {
     "data": {
      "text/plain": [
       "array(['id', 'issue_d', 'loan_amnt', 'loan_status', 'funded_amnt', 'term', 'int_rate',\n",
       "       'installment', 'grade', 'sub_grade', 'verification_status', 'url', 'addr_state',\n",
       "       'total_pymnt'], dtype='<U19')"
      ]
     },
     "execution_count": 13,
     "metadata": {},
     "output_type": "execute_result"
    }
   ],
   "source": [
    "## Import columns only\n",
    "header = np.genfromtxt(filepath,\n",
    "                      delimiter = \";\",\n",
    "                      autostrip = True,\n",
    "                      skip_footer = loan_data.shape[0],\n",
    "                      dtype = str)\n",
    "header"
   ]
  },
  {
   "cell_type": "code",
   "execution_count": 14,
   "id": "e05ad07e",
   "metadata": {},
   "outputs": [],
   "source": [
    "## assighning column names to our desired dataframe\n",
    "header_int, header_str = header[int_col],header[string_column]"
   ]
  },
  {
   "cell_type": "code",
   "execution_count": 15,
   "id": "998fe499",
   "metadata": {},
   "outputs": [
    {
     "name": "stdout",
     "output_type": "stream",
     "text": [
      "['id' 'loan_amnt' 'funded_amnt' 'int_rate' 'installment' 'total_pymnt']\n",
      "['issue_d' 'loan_status' 'term' 'grade' 'sub_grade' 'verification_status' 'url' 'addr_state']\n"
     ]
    }
   ],
   "source": [
    "print(header_int)\n",
    "print(header_str)"
   ]
  },
  {
   "cell_type": "markdown",
   "id": "c65661d4",
   "metadata": {},
   "source": [
    "## Manupulating String Columns"
   ]
  },
  {
   "cell_type": "code",
   "execution_count": 16,
   "id": "43f9bf88",
   "metadata": {},
   "outputs": [
    {
     "data": {
      "text/plain": [
       "'issue_date'"
      ]
     },
     "execution_count": 16,
     "metadata": {},
     "output_type": "execute_result"
    }
   ],
   "source": [
    "header_str[0], header_str[7]= \"issue_date\", \"state_address\"\n",
    "header_str[0]"
   ]
  },
  {
   "cell_type": "markdown",
   "id": "c058e70f",
   "metadata": {},
   "source": [
    "## issue_date"
   ]
  },
  {
   "cell_type": "code",
   "execution_count": 17,
   "id": "fcbc0e3a",
   "metadata": {},
   "outputs": [
    {
     "data": {
      "text/plain": [
       "array(['', 'Apr-15', 'Aug-15', 'Dec-15', 'Feb-15', 'Jan-15', 'Jul-15', 'Jun-15', 'Mar-15',\n",
       "       'May-15', 'Nov-15', 'Oct-15', 'Sep-15'], dtype='<U69')"
      ]
     },
     "execution_count": 17,
     "metadata": {},
     "output_type": "execute_result"
    }
   ],
   "source": [
    "## We'd like months to have their numeric order is jan to 1 and dec 12\n",
    "## 1st let check the unique value in the column\n",
    "## We have a '' blank value before 'Apr-15'\n",
    "np.unique(loan_data_str[:, 0])"
   ]
  },
  {
   "cell_type": "code",
   "execution_count": 18,
   "id": "25a53b1a",
   "metadata": {},
   "outputs": [
    {
     "data": {
      "text/plain": [
       "array(['', 'Apr', 'Aug', 'Dec', 'Feb', 'Jan', 'Jul', 'Jun', 'Mar', 'May', 'Nov', 'Oct', 'Sep'],\n",
       "      dtype='<U69')"
      ]
     },
     "execution_count": 18,
     "metadata": {},
     "output_type": "execute_result"
    }
   ],
   "source": [
    "## Let's strip of the -15 from the entire column\n",
    "loan_data_str[:, 0] = np.chararray.strip(loan_data_str[:, 0], \"-15\")\n",
    "np.unique(loan_data_str[:, 0])"
   ]
  },
  {
   "cell_type": "code",
   "execution_count": 19,
   "id": "8908998e",
   "metadata": {},
   "outputs": [
    {
     "data": {
      "text/plain": [
       "array(['', 'Jan', 'Feb', 'Mar', 'Apr', 'May', 'Jun', 'Jul', 'Aug', 'Sep', 'Oct', 'Nov', 'Dec'],\n",
       "      dtype='<U3')"
      ]
     },
     "execution_count": 19,
     "metadata": {},
     "output_type": "execute_result"
    }
   ],
   "source": [
    "## Create a variale months\n",
    "## the variable we are replacing with are in an np.array\n",
    "months =np.array (['', 'Jan', 'Feb','Mar','Apr', 'May', 'Jun', 'Jul','Aug','Sep','Oct','Nov', 'Dec'])\n",
    "months"
   ]
  },
  {
   "cell_type": "code",
   "execution_count": 20,
   "id": "6d671ea1",
   "metadata": {},
   "outputs": [],
   "source": [
    "## Iterate thru' the column to replace the months with numbers\n",
    "for i in range(13):\n",
    "    loan_data_str[:, 0] = np.where(loan_data_str[:, 0] == months[i],\n",
    "                                  i,\n",
    "                                  loan_data_str[:, 0])"
   ]
  },
  {
   "cell_type": "code",
   "execution_count": 21,
   "id": "3e0a4b1c",
   "metadata": {},
   "outputs": [
    {
     "data": {
      "text/plain": [
       "array(['0', '1', '10', '11', '12', '2', '3', '4', '5', '6', '7', '8', '9'], dtype='<U69')"
      ]
     },
     "execution_count": 21,
     "metadata": {},
     "output_type": "execute_result"
    }
   ],
   "source": [
    "np.unique(loan_data_str[:, 0])"
   ]
  },
  {
   "cell_type": "markdown",
   "id": "58819e2f",
   "metadata": {},
   "source": [
    "## loan_status"
   ]
  },
  {
   "cell_type": "code",
   "execution_count": 22,
   "id": "c8ae1fbd",
   "metadata": {},
   "outputs": [
    {
     "data": {
      "text/plain": [
       "array(['', 'Charged Off', 'Current', 'Default', 'Fully Paid', 'In Grace Period', 'Issued',\n",
       "       'Late (16-30 days)', 'Late (31-120 days)'], dtype='<U69')"
      ]
     },
     "execution_count": 22,
     "metadata": {},
     "output_type": "execute_result"
    }
   ],
   "source": [
    "np.unique(loan_data_str[:, 1])"
   ]
  },
  {
   "cell_type": "code",
   "execution_count": 23,
   "id": "c7ce5dc1",
   "metadata": {},
   "outputs": [
    {
     "data": {
      "text/plain": [
       "9"
      ]
     },
     "execution_count": 23,
     "metadata": {},
     "output_type": "execute_result"
    }
   ],
   "source": [
    "## to check the number of unique elements in the column\n",
    "np.unique(loan_data_str[:, 1]).size"
   ]
  },
  {
   "cell_type": "code",
   "execution_count": 24,
   "id": "e9fd51af",
   "metadata": {},
   "outputs": [],
   "source": [
    "## Will have good and bad status \"1\" will represent the good status whereas \"0\" will represent/replace the bad loanstutus\n",
    "statusBad = (['','Charged Off','Default','Late (31-120 days)'])"
   ]
  },
  {
   "cell_type": "code",
   "execution_count": 25,
   "id": "27b8af34",
   "metadata": {},
   "outputs": [],
   "source": [
    "loan_data_str[:, 1] = np.where(np.isin(loan_data_str[:, 1], statusBad), 0, 1)"
   ]
  },
  {
   "cell_type": "code",
   "execution_count": 26,
   "id": "6c068970",
   "metadata": {},
   "outputs": [
    {
     "data": {
      "text/plain": [
       "array([['5', '1', '36 months', ..., 'Verified',\n",
       "        'https://www.lendingclub.com/browse/loanDetail.action?loan_id=48010226', 'CA'],\n",
       "       ['0', '1', '36 months', ..., 'Source Verified',\n",
       "        'https://www.lendingclub.com/browse/loanDetail.action?loan_id=57693261', 'NY'],\n",
       "       ['9', '1', '36 months', ..., 'Verified',\n",
       "        'https://www.lendingclub.com/browse/loanDetail.action?loan_id=59432726', 'PA'],\n",
       "       ...,\n",
       "       ['6', '1', '36 months', ..., 'Source Verified',\n",
       "        'https://www.lendingclub.com/browse/loanDetail.action?loan_id=50415990', 'CA'],\n",
       "       ['4', '1', '36 months', ..., 'Source Verified',\n",
       "        'https://www.lendingclub.com/browse/loanDetail.action?loan_id=46154151', 'OH'],\n",
       "       ['12', '1', '36 months', ..., '',\n",
       "        'https://www.lendingclub.com/browse/loanDetail.action?loan_id=66055249', 'IL']],\n",
       "      dtype='<U69')"
      ]
     },
     "execution_count": 26,
     "metadata": {},
     "output_type": "execute_result"
    }
   ],
   "source": [
    "loan_data_str"
   ]
  },
  {
   "cell_type": "markdown",
   "id": "f2febfc4",
   "metadata": {},
   "source": [
    "### Term\n"
   ]
  },
  {
   "cell_type": "code",
   "execution_count": 27,
   "id": "307f20e3",
   "metadata": {},
   "outputs": [
    {
     "data": {
      "text/plain": [
       "array(['', '36 months', '60 months'], dtype='<U69')"
      ]
     },
     "execution_count": 27,
     "metadata": {},
     "output_type": "execute_result"
    }
   ],
   "source": [
    "np.unique(loan_data_str[:, 2])"
   ]
  },
  {
   "cell_type": "code",
   "execution_count": 28,
   "id": "a79d2b00",
   "metadata": {},
   "outputs": [
    {
     "data": {
      "text/plain": [
       "array(['36', '36', '36', ..., '36', '36', '36'], dtype='<U69')"
      ]
     },
     "execution_count": 28,
     "metadata": {},
     "output_type": "execute_result"
    }
   ],
   "source": [
    "## Let's remove months frome the column term\n",
    "loan_data_str[:, 2] = np.chararray.strip(loan_data_str[:, 2], ' months')\n",
    "loan_data_str[:, 2]"
   ]
  },
  {
   "cell_type": "code",
   "execution_count": 29,
   "id": "fe30001f",
   "metadata": {},
   "outputs": [
    {
     "data": {
      "text/plain": [
       "array(['issue_date', 'loan_status', 'monthTerms', 'grade', 'sub_grade', 'verification_status',\n",
       "       'url', 'state_address'], dtype='<U19')"
      ]
     },
     "execution_count": 29,
     "metadata": {},
     "output_type": "execute_result"
    }
   ],
   "source": [
    "header_str[2] = \"monthTerms\"\n",
    "header_str"
   ]
  },
  {
   "cell_type": "code",
   "execution_count": 30,
   "id": "b93f6ff2",
   "metadata": {},
   "outputs": [
    {
     "data": {
      "text/plain": [
       "array([['5', '1', '36', ..., 'Verified',\n",
       "        'https://www.lendingclub.com/browse/loanDetail.action?loan_id=48010226', 'CA'],\n",
       "       ['0', '1', '36', ..., 'Source Verified',\n",
       "        'https://www.lendingclub.com/browse/loanDetail.action?loan_id=57693261', 'NY'],\n",
       "       ['9', '1', '36', ..., 'Verified',\n",
       "        'https://www.lendingclub.com/browse/loanDetail.action?loan_id=59432726', 'PA'],\n",
       "       ...,\n",
       "       ['6', '1', '36', ..., 'Source Verified',\n",
       "        'https://www.lendingclub.com/browse/loanDetail.action?loan_id=50415990', 'CA'],\n",
       "       ['4', '1', '36', ..., 'Source Verified',\n",
       "        'https://www.lendingclub.com/browse/loanDetail.action?loan_id=46154151', 'OH'],\n",
       "       ['12', '1', '36', ..., '',\n",
       "        'https://www.lendingclub.com/browse/loanDetail.action?loan_id=66055249', 'IL']],\n",
       "      dtype='<U69')"
      ]
     },
     "execution_count": 30,
     "metadata": {},
     "output_type": "execute_result"
    }
   ],
   "source": [
    "### Change data type to string to make it possible to substitute \"60\" with blanks\n",
    "loan_data_str"
   ]
  },
  {
   "cell_type": "code",
   "execution_count": 31,
   "id": "d495f57a",
   "metadata": {},
   "outputs": [
    {
     "data": {
      "text/plain": [
       "array(['36', '60'], dtype='<U69')"
      ]
     },
     "execution_count": 31,
     "metadata": {},
     "output_type": "execute_result"
    }
   ],
   "source": [
    "## Lets replace all blank values with \"60\" as a common practise principal in credit risk modeling\n",
    "loan_data_str[:, 2] = np.where(loan_data_str[:, 2] == '',\n",
    "                              60, \n",
    "                             loan_data_str[:, 2])\n",
    "np.unique(loan_data_str[:, 2])"
   ]
  },
  {
   "cell_type": "markdown",
   "id": "ca4f67cb",
   "metadata": {},
   "source": [
    "### Grade and Subgrade"
   ]
  },
  {
   "cell_type": "code",
   "execution_count": 32,
   "id": "a9712c91",
   "metadata": {},
   "outputs": [
    {
     "data": {
      "text/plain": [
       "array(['', 'A', 'B', 'C', 'D', 'E', 'F', 'G'], dtype='<U69')"
      ]
     },
     "execution_count": 32,
     "metadata": {},
     "output_type": "execute_result"
    }
   ],
   "source": [
    "np.unique(loan_data_str[:, 3])"
   ]
  },
  {
   "cell_type": "code",
   "execution_count": 33,
   "id": "db5832aa",
   "metadata": {},
   "outputs": [
    {
     "data": {
      "text/plain": [
       "array(['', 'A1', 'A2', 'A3', 'A4', 'A5', 'B1', 'B2', 'B3', 'B4', 'B5', 'C1', 'C2', 'C3', 'C4',\n",
       "       'C5', 'D1', 'D2', 'D3', 'D4', 'D5', 'E1', 'E2', 'E3', 'E4', 'E5', 'F1', 'F2', 'F3', 'F4',\n",
       "       'F5', 'G1', 'G2', 'G3', 'G4', 'G5'], dtype='<U69')"
      ]
     },
     "execution_count": 33,
     "metadata": {},
     "output_type": "execute_result"
    }
   ],
   "source": [
    "np.unique(loan_data_str[:, 4])"
   ]
  },
  {
   "cell_type": "code",
   "execution_count": 34,
   "id": "09eca99a",
   "metadata": {},
   "outputs": [
    {
     "data": {
      "text/plain": [
       "(array(['', 'A1', 'A2', 'A3', 'A4', 'A5', 'B1', 'B2', 'B3', 'B4', 'B5', 'C1', 'C2', 'C3', 'C4',\n",
       "        'C5', 'D1', 'D2', 'D3', 'D4', 'D5', 'E1', 'E2', 'E3', 'E4', 'E5', 'F1', 'F2', 'F3', 'F4',\n",
       "        'F5', 'G1', 'G2', 'G3', 'G4', 'G5'], dtype='<U69'),\n",
       " array([  9, 285, 278, 239, 323, 592, 509, 517, 530, 553, 633, 629, 567, 586, 564, 577, 391, 267,\n",
       "        250, 255, 288, 235, 162, 171, 139, 160,  94,  52,  34,  43,  24,  19,  10,   3,   7,   5],\n",
       "       dtype=int64))"
      ]
     },
     "execution_count": 34,
     "metadata": {},
     "output_type": "execute_result"
    }
   ],
   "source": [
    "### Will replace all values in substring string column with a letter from the grade column and add 5 \n",
    "for i in np.unique(loan_data_str[:, 3])[1:]:\n",
    "    loan_data_str[:, 4] = np.where((loan_data_str[:, 4] == \"\") & (loan_data_str[:, 3] == i),\n",
    "                                             i + \"5\",\n",
    "                                             loan_data_str[:, 4])\n",
    "np.unique(loan_data_str[:, 4], return_counts = True)"
   ]
  },
  {
   "cell_type": "code",
   "execution_count": 35,
   "id": "adc2306a",
   "metadata": {},
   "outputs": [
    {
     "data": {
      "text/plain": [
       "array([['', 'A', 'B', 'C', 'D', 'E', 'F', 'G'],\n",
       "       ['515', '1632', '2606', '2766', '1389', '816', '236', '40']], dtype='<U69')"
      ]
     },
     "execution_count": 35,
     "metadata": {},
     "output_type": "execute_result"
    }
   ],
   "source": [
    "### Check the number of times each element appears\n",
    "array_test = np.array(np.unique(loan_data_str[:, 3], return_counts = True))\n",
    "array_test"
   ]
  },
  {
   "cell_type": "code",
   "execution_count": 36,
   "id": "62225d9b",
   "metadata": {},
   "outputs": [
    {
     "data": {
      "text/plain": [
       "array(['515', '1632', '2606', '2766', '1389', '816', '236', '40'], dtype='<U69')"
      ]
     },
     "execution_count": 36,
     "metadata": {},
     "output_type": "execute_result"
    }
   ],
   "source": [
    "array_test[1] = array_test[1].astype(np.int32)\n",
    "array_test[1]"
   ]
  },
  {
   "cell_type": "code",
   "execution_count": 37,
   "id": "3ffe6b3b",
   "metadata": {},
   "outputs": [
    {
     "data": {
      "text/plain": [
       "'816'"
      ]
     },
     "execution_count": 37,
     "metadata": {},
     "output_type": "execute_result"
    }
   ],
   "source": [
    "### this is how you check the maximum value of a string array\n",
    "max(array_test[1])"
   ]
  },
  {
   "cell_type": "code",
   "execution_count": 38,
   "id": "0172c909",
   "metadata": {},
   "outputs": [
    {
     "data": {
      "text/plain": [
       "(array(['A1', 'A2', 'A3', 'A4', 'A5', 'B1', 'B2', 'B3', 'B4', 'B5', 'C1', 'C2', 'C3', 'C4', 'C5',\n",
       "        'D1', 'D2', 'D3', 'D4', 'D5', 'E1', 'E2', 'E3', 'E4', 'E5', 'F1', 'F2', 'F3', 'F4', 'F5',\n",
       "        'G1', 'G2', 'G3', 'G4', 'G5', 'H5'], dtype='<U69'),\n",
       " array([285, 278, 239, 323, 592, 509, 517, 530, 553, 633, 629, 567, 586, 564, 577, 391, 267, 250,\n",
       "        255, 288, 235, 162, 171, 139, 160,  94,  52,  34,  43,  24,  19,  10,   3,   7,   5,   9],\n",
       "       dtype=int64))"
      ]
     },
     "execution_count": 38,
     "metadata": {},
     "output_type": "execute_result"
    }
   ],
   "source": [
    "loan_data_str[:, 4] = np.where((loan_data_str[:, 4] == \"\"),\n",
    "                               \"H5\",\n",
    "                               loan_data_str[:, 4])\n",
    "np.unique(loan_data_str[:, 4], return_counts = True)"
   ]
  },
  {
   "cell_type": "code",
   "execution_count": 39,
   "id": "231ce2ac",
   "metadata": {},
   "outputs": [
    {
     "data": {
      "text/plain": [
       "array(['C3', 'A5', 'B5', ..., 'A5', 'D2', 'A4'], dtype='<U69')"
      ]
     },
     "execution_count": 39,
     "metadata": {},
     "output_type": "execute_result"
    }
   ],
   "source": [
    "loan_data_str = np.delete(loan_data_str, 3, axis = 1)\n",
    "loan_data_str[:, 3]"
   ]
  },
  {
   "cell_type": "code",
   "execution_count": 40,
   "id": "2e2e55d5",
   "metadata": {},
   "outputs": [
    {
     "data": {
      "text/plain": [
       "array(['issue_date', 'loan_status', 'monthTerms', 'sub_grade', 'verification_status', 'url',\n",
       "       'state_address'], dtype='<U19')"
      ]
     },
     "execution_count": 40,
     "metadata": {},
     "output_type": "execute_result"
    }
   ],
   "source": [
    "header_str = np.delete(header_str, 3, axis = 0)\n",
    "header_str"
   ]
  },
  {
   "cell_type": "code",
   "execution_count": 41,
   "id": "9a5b16e5",
   "metadata": {},
   "outputs": [
    {
     "data": {
      "text/plain": [
       "array(['A1', 'A2', 'A3', 'A4', 'A5', 'B1', 'B2', 'B3', 'B4', 'B5', 'C1', 'C2', 'C3', 'C4', 'C5',\n",
       "       'D1', 'D2', 'D3', 'D4', 'D5', 'E1', 'E2', 'E3', 'E4', 'E5', 'F1', 'F2', 'F3', 'F4', 'F5',\n",
       "       'G1', 'G2', 'G3', 'G4', 'G5', 'H5'], dtype='<U69')"
      ]
     },
     "execution_count": 41,
     "metadata": {},
     "output_type": "execute_result"
    }
   ],
   "source": [
    "# Assighn a value to each of the character strings in \"loan_data_str[:, 3]\"\n",
    "np.unique(loan_data_str[:, 3])"
   ]
  },
  {
   "cell_type": "code",
   "execution_count": 42,
   "id": "1bb15c04",
   "metadata": {},
   "outputs": [
    {
     "name": "stdout",
     "output_type": "stream",
     "text": [
      "['A1', 'A2', 'A3', 'A4', 'A5', 'B1', 'B2', 'B3', 'B4', 'B5', 'C1', 'C2', 'C3', 'C4', 'C5', 'D1', 'D2', 'D3', 'D4', 'D5', 'E1', 'E2', 'E3', 'E4', 'E5', 'F1', 'F2', 'F3', 'F4', 'F5', 'G1', 'G2', 'G3', 'G4', 'G5', 'H5']\n"
     ]
    }
   ],
   "source": [
    "print(list(np.unique(loan_data_str[:, 3])))"
   ]
  },
  {
   "cell_type": "code",
   "execution_count": 43,
   "id": "3c5e41a7",
   "metadata": {},
   "outputs": [
    {
     "name": "stdout",
     "output_type": "stream",
     "text": [
      "['A1', 'A2', 'A3', 'A4', 'A5', 'B1', 'B2', 'B3', 'B4', 'B5', 'C1', 'C2', 'C3', 'C4', 'C5', 'D1', 'D2', 'D3', 'D4', 'D5', 'E1', 'E2', 'E3', 'E4', 'E5', 'F1', 'F2', 'F3', 'F4', 'F5', 'G1', 'G2', 'G3', 'G4', 'G5', 'H5']\n"
     ]
    }
   ],
   "source": [
    "r = list(np.unique(loan_data_str[:, 3]))\n",
    "print(r)"
   ]
  },
  {
   "cell_type": "code",
   "execution_count": 44,
   "id": "b67f62af",
   "metadata": {},
   "outputs": [
    {
     "name": "stdout",
     "output_type": "stream",
     "text": [
      "36\n",
      "['A1', 'A2', 'A3', 'A4', 'A5', 'B1', 'B2', 'B3', 'B4', 'B5', 'C1', 'C2', 'C3', 'C4', 'C5', 'D1', 'D2', 'D3', 'D4', 'D5', 'E1', 'E2', 'E3', 'E4', 'E5', 'F1', 'F2', 'F3', 'F4', 'F5', 'G1', 'G2', 'G3', 'G4', 'G5', 'H5']\n"
     ]
    }
   ],
   "source": [
    "t = range(1, 5)\n",
    "print(np.count_nonzero(r))\n",
    "print(r)"
   ]
  },
  {
   "cell_type": "code",
   "execution_count": 45,
   "id": "52a4fd13",
   "metadata": {},
   "outputs": [
    {
     "data": {
      "text/plain": [
       "36"
      ]
     },
     "execution_count": 45,
     "metadata": {},
     "output_type": "execute_result"
    }
   ],
   "source": [
    "## Check array output shape\n",
    "### \".shape[0]\" returns the number of rows,[0] represents the rows axis , \n",
    "### if it was a 2d array [1] would represnt the number of columns\n",
    "np.unique(loan_data_str[:, 3]).shape[0]"
   ]
  },
  {
   "cell_type": "code",
   "execution_count": 46,
   "id": "8d87e6d9",
   "metadata": {},
   "outputs": [
    {
     "data": {
      "text/plain": [
       "36"
      ]
     },
     "execution_count": 46,
     "metadata": {},
     "output_type": "execute_result"
    }
   ],
   "source": [
    "## To check the number of unique values in the array\n",
    "x = np.unique(loan_data_str[:, 3])\n",
    "y = np.count_nonzero(x)\n",
    "y"
   ]
  },
  {
   "cell_type": "code",
   "execution_count": 47,
   "id": "78ed9ff2",
   "metadata": {},
   "outputs": [
    {
     "data": {
      "text/plain": [
       "37"
      ]
     },
     "execution_count": 47,
     "metadata": {},
     "output_type": "execute_result"
    }
   ],
   "source": [
    "z = y + 1\n",
    "z"
   ]
  },
  {
   "cell_type": "code",
   "execution_count": 48,
   "id": "13b090ce",
   "metadata": {},
   "outputs": [
    {
     "name": "stdout",
     "output_type": "stream",
     "text": [
      "[1, 2, 3, 4, 5, 6, 7, 8, 9, 10, 11, 12, 13, 14, 15, 16, 17, 18, 19, 20, 21, 22, 23, 24, 25, 26, 27, 28, 29, 30, 31, 32, 33, 34, 35, 36]\n"
     ]
    }
   ],
   "source": [
    "### assighn a value to each unique character in sub_grade column\n",
    "values = list(range(1, z))\n",
    "print(values)"
   ]
  },
  {
   "cell_type": "code",
   "execution_count": 49,
   "id": "43f6ab4d",
   "metadata": {},
   "outputs": [
    {
     "data": {
      "text/plain": [
       "{'A1': 1,\n",
       " 'A2': 2,\n",
       " 'A3': 3,\n",
       " 'A4': 4,\n",
       " 'A5': 5,\n",
       " 'B1': 6,\n",
       " 'B2': 7,\n",
       " 'B3': 8,\n",
       " 'B4': 9,\n",
       " 'B5': 10,\n",
       " 'C1': 11,\n",
       " 'C2': 12,\n",
       " 'C3': 13,\n",
       " 'C4': 14,\n",
       " 'C5': 15,\n",
       " 'D1': 16,\n",
       " 'D2': 17,\n",
       " 'D3': 18,\n",
       " 'D4': 19,\n",
       " 'D5': 20,\n",
       " 'E1': 21,\n",
       " 'E2': 22,\n",
       " 'E3': 23,\n",
       " 'E4': 24,\n",
       " 'E5': 25,\n",
       " 'F1': 26,\n",
       " 'F2': 27,\n",
       " 'F3': 28,\n",
       " 'F4': 29,\n",
       " 'F5': 30,\n",
       " 'G1': 31,\n",
       " 'G2': 32,\n",
       " 'G3': 33,\n",
       " 'G4': 34,\n",
       " 'G5': 35,\n",
       " 'H5': 36}"
      ]
     },
     "execution_count": 49,
     "metadata": {},
     "output_type": "execute_result"
    }
   ],
   "source": [
    "### \"zip\" function takes two or more iterables and pairs their elements together\n",
    "### It creates an iterator that generates tuples where the i-th tuple contains the i-th element from each of the input iterables.\n",
    "dict_sub_grade = dict(zip(r, values))\n",
    "dict_sub_grade"
   ]
  },
  {
   "cell_type": "code",
   "execution_count": 50,
   "id": "490d4e73",
   "metadata": {},
   "outputs": [],
   "source": [
    "for i in x:\n",
    "    loan_data_str[:, 3] = np.where(loan_data_str[:, 3] == i,\n",
    "                                  dict_sub_grade[i],\n",
    "                                  loan_data_str[:, 3])"
   ]
  },
  {
   "cell_type": "code",
   "execution_count": 51,
   "id": "77fc192c",
   "metadata": {},
   "outputs": [
    {
     "data": {
      "text/plain": [
       "array(['1', '10', '11', '12', '13', '14', '15', '16', '17', '18', '19', '2', '20', '21', '22',\n",
       "       '23', '24', '25', '26', '27', '28', '29', '3', '30', '31', '32', '33', '34', '35', '36',\n",
       "       '4', '5', '6', '7', '8', '9'], dtype='<U69')"
      ]
     },
     "execution_count": 51,
     "metadata": {},
     "output_type": "execute_result"
    }
   ],
   "source": [
    "np.unique(loan_data_str[:, 3])"
   ]
  },
  {
   "cell_type": "markdown",
   "id": "63b22e2e",
   "metadata": {},
   "source": [
    "### Verification status  and URL"
   ]
  },
  {
   "cell_type": "code",
   "execution_count": 52,
   "id": "3ce6ac0a",
   "metadata": {},
   "outputs": [
    {
     "data": {
      "text/plain": [
       "array(['Verified', 'Source Verified', 'Verified', ..., 'Source Verified', 'Source Verified', ''],\n",
       "      dtype='<U69')"
      ]
     },
     "execution_count": 52,
     "metadata": {},
     "output_type": "execute_result"
    }
   ],
   "source": [
    "loan_data_str[:, 4]"
   ]
  },
  {
   "cell_type": "code",
   "execution_count": 53,
   "id": "2abd396d",
   "metadata": {},
   "outputs": [
    {
     "data": {
      "text/plain": [
       "array(['', 'Not Verified', 'Source Verified', 'Verified'], dtype='<U69')"
      ]
     },
     "execution_count": 53,
     "metadata": {},
     "output_type": "execute_result"
    }
   ],
   "source": [
    "np.unique(loan_data_str[:, 4])"
   ]
  },
  {
   "cell_type": "code",
   "execution_count": 54,
   "id": "f80d76ce",
   "metadata": {},
   "outputs": [
    {
     "data": {
      "text/plain": [
       "array(['Verified', 'Source Verified', 'Verified', ..., 'Source Verified', 'Source Verified', '0'],\n",
       "      dtype='<U69')"
      ]
     },
     "execution_count": 54,
     "metadata": {},
     "output_type": "execute_result"
    }
   ],
   "source": [
    "loan_data_str[:, 4] = np.where((loan_data_str[:, 4]  == '') | (loan_data_str[:, 4] == 'Not Verified'), 0, loan_data_str[:, 4])\n",
    "loan_data_str[:, 4]"
   ]
  },
  {
   "cell_type": "code",
   "execution_count": 55,
   "id": "1fb76a67",
   "metadata": {},
   "outputs": [
    {
     "data": {
      "text/plain": [
       "array(['0', 'Source Verified', 'Verified'], dtype='<U69')"
      ]
     },
     "execution_count": 55,
     "metadata": {},
     "output_type": "execute_result"
    }
   ],
   "source": [
    "np.unique(loan_data_str[:, 4])"
   ]
  },
  {
   "cell_type": "code",
   "execution_count": 56,
   "id": "0479e20d",
   "metadata": {},
   "outputs": [
    {
     "data": {
      "text/plain": [
       "(array(['0', '1'], dtype='<U69'), array([3173, 6827], dtype=int64))"
      ]
     },
     "execution_count": 56,
     "metadata": {},
     "output_type": "execute_result"
    }
   ],
   "source": [
    "loan_data_str[:, 4] = np.where((loan_data_str[:, 4] == 'Source Verified') | (loan_data_str[:, 4] == 'Verified'), 1, loan_data_str[:, 4])\n",
    "np.unique(loan_data_str[:, 4], return_counts = True)"
   ]
  },
  {
   "cell_type": "code",
   "execution_count": 57,
   "id": "029513a9",
   "metadata": {},
   "outputs": [
    {
     "data": {
      "text/plain": [
       "array(['https://www.lendingclub.com/browse/loanDetail.action?loan_id=48010226',\n",
       "       'https://www.lendingclub.com/browse/loanDetail.action?loan_id=57693261',\n",
       "       'https://www.lendingclub.com/browse/loanDetail.action?loan_id=59432726', ...,\n",
       "       'https://www.lendingclub.com/browse/loanDetail.action?loan_id=50415990',\n",
       "       'https://www.lendingclub.com/browse/loanDetail.action?loan_id=46154151',\n",
       "       'https://www.lendingclub.com/browse/loanDetail.action?loan_id=66055249'], dtype='<U69')"
      ]
     },
     "execution_count": 57,
     "metadata": {},
     "output_type": "execute_result"
    }
   ],
   "source": [
    "### Check verification status column\n",
    "loan_data_str[:, 5]"
   ]
  },
  {
   "cell_type": "code",
   "execution_count": 58,
   "id": "66cfbb97",
   "metadata": {},
   "outputs": [
    {
     "data": {
      "text/plain": [
       "array(['48010226', '57693261', '59432726', ..., '50415990', '46154151', '66055249'], dtype='<U69')"
      ]
     },
     "execution_count": 58,
     "metadata": {},
     "output_type": "execute_result"
    }
   ],
   "source": [
    "loan_data_str[:, 5] = np.chararray.strip(loan_data_str[:, 5], \"https://www.lendingclub.com/browse/loanDetail.action?loan_id=\")\n",
    "loan_data_str[:, 5]"
   ]
  },
  {
   "cell_type": "code",
   "execution_count": 59,
   "id": "9ede9407",
   "metadata": {},
   "outputs": [
    {
     "data": {
      "text/plain": [
       "array([48010226, 57693261, 59432726, ..., 50415990, 46154151, 66055249])"
      ]
     },
     "execution_count": 59,
     "metadata": {},
     "output_type": "execute_result"
    }
   ],
   "source": [
    "loan_data_int[:, 0]"
   ]
  },
  {
   "cell_type": "code",
   "execution_count": 60,
   "id": "96c1c4e4",
   "metadata": {},
   "outputs": [
    {
     "data": {
      "text/plain": [
       "array(['48010226', '57693261', '59432726', ..., '50415990', '46154151', '66055249'], dtype='<U69')"
      ]
     },
     "execution_count": 60,
     "metadata": {},
     "output_type": "execute_result"
    }
   ],
   "source": [
    "loan_data_str[:, 5]"
   ]
  },
  {
   "cell_type": "code",
   "execution_count": 61,
   "id": "e0643968",
   "metadata": {},
   "outputs": [
    {
     "data": {
      "text/plain": [
       "dtype('int32')"
      ]
     },
     "execution_count": 61,
     "metadata": {},
     "output_type": "execute_result"
    }
   ],
   "source": [
    "## This 2 arrays have the same the same output except one has string values the other has interger value\n",
    "loan_data_int.dtype"
   ]
  },
  {
   "cell_type": "code",
   "execution_count": 62,
   "id": "b8927b59",
   "metadata": {},
   "outputs": [
    {
     "data": {
      "text/plain": [
       "array(['12606806', '13026045', '1312426', ..., '8138291', '8214572', '849994'], dtype='<U69')"
      ]
     },
     "execution_count": 62,
     "metadata": {},
     "output_type": "execute_result"
    }
   ],
   "source": [
    "np.unique(loan_data_str[:, 5])"
   ]
  },
  {
   "cell_type": "code",
   "execution_count": 63,
   "id": "0d681e4b",
   "metadata": {},
   "outputs": [
    {
     "data": {
      "text/plain": [
       "array(['48010226', '57693261', '59432726', ..., '50415990', '46154151', '66055249'], dtype='<U69')"
      ]
     },
     "execution_count": 63,
     "metadata": {},
     "output_type": "execute_result"
    }
   ],
   "source": [
    "### To change the data type of \"loan_data_str[:, 5]\"\n",
    "loan_data_str[:, 5] = loan_data_str[:, 5].astype(np.int32)\n",
    "loan_data_str[:, 5]"
   ]
  },
  {
   "cell_type": "code",
   "execution_count": 64,
   "id": "c4a9ff76",
   "metadata": {},
   "outputs": [
    {
     "data": {
      "text/plain": [
       "array([ True,  True,  True, ...,  True,  True,  True])"
      ]
     },
     "execution_count": 64,
     "metadata": {},
     "output_type": "execute_result"
    }
   ],
   "source": [
    "np.equal(loan_data_int[:, 0], loan_data_str[:, 5].astype(dtype = int))\n"
   ]
  },
  {
   "cell_type": "code",
   "execution_count": 65,
   "id": "8a788fb2",
   "metadata": {},
   "outputs": [
    {
     "data": {
      "text/plain": [
       "True"
      ]
     },
     "execution_count": 65,
     "metadata": {},
     "output_type": "execute_result"
    }
   ],
   "source": [
    "### further we could use this function\n",
    "np.array_equal(loan_data_int[:, 0], loan_data_str[:, 5].astype(dtype = int))"
   ]
  },
  {
   "cell_type": "code",
   "execution_count": 66,
   "id": "b43e07e1",
   "metadata": {},
   "outputs": [],
   "source": [
    "loan_data_str = np.delete(loan_data_str, 5 ,axis = 1)"
   ]
  },
  {
   "cell_type": "code",
   "execution_count": 67,
   "id": "cb8e89d6",
   "metadata": {},
   "outputs": [
    {
     "data": {
      "text/plain": [
       "array([['5', '1', '36', '13', '1', 'CA'],\n",
       "       ['0', '1', '36', '5', '1', 'NY'],\n",
       "       ['9', '1', '36', '10', '1', 'PA'],\n",
       "       ...,\n",
       "       ['6', '1', '36', '5', '1', 'CA'],\n",
       "       ['4', '1', '36', '17', '1', 'OH'],\n",
       "       ['12', '1', '36', '4', '0', 'IL']], dtype='<U69')"
      ]
     },
     "execution_count": 67,
     "metadata": {},
     "output_type": "execute_result"
    }
   ],
   "source": [
    "loan_data_str"
   ]
  },
  {
   "cell_type": "code",
   "execution_count": 68,
   "id": "2ae463e8",
   "metadata": {},
   "outputs": [
    {
     "data": {
      "text/plain": [
       "array(['issue_date', 'loan_status', 'monthTerms', 'sub_grade', 'verification_status',\n",
       "       'state_address'], dtype='<U19')"
      ]
     },
     "execution_count": 68,
     "metadata": {},
     "output_type": "execute_result"
    }
   ],
   "source": [
    "header_str = np.delete(header_str, 5, axis = 0)\n",
    "header_str"
   ]
  },
  {
   "cell_type": "markdown",
   "id": "07fe2b0c",
   "metadata": {},
   "source": [
    "### State Address"
   ]
  },
  {
   "cell_type": "code",
   "execution_count": 69,
   "id": "435f087f",
   "metadata": {},
   "outputs": [
    {
     "data": {
      "text/plain": [
       "array(['', 'AK', 'AL', 'AR', 'AZ', 'CA', 'CO', 'CT', 'DC', 'DE', 'FL', 'GA', 'HI', 'IL', 'IN',\n",
       "       'KS', 'KY', 'LA', 'MA', 'MD', 'ME', 'MI', 'MN', 'MO', 'MS', 'MT', 'NC', 'ND', 'NE', 'NH',\n",
       "       'NJ', 'NM', 'NV', 'NY', 'OH', 'OK', 'OR', 'PA', 'RI', 'SC', 'SD', 'TN', 'TX', 'UT', 'VA',\n",
       "       'VT', 'WA', 'WI', 'WV', 'WY'], dtype='<U69')"
      ]
     },
     "execution_count": 69,
     "metadata": {},
     "output_type": "execute_result"
    }
   ],
   "source": [
    "## Check the state address elements, notice the missing value`\n",
    "np.unique(loan_data_str[:, 5])"
   ]
  },
  {
   "cell_type": "code",
   "execution_count": 70,
   "id": "48000878",
   "metadata": {},
   "outputs": [
    {
     "data": {
      "text/plain": [
       "50"
      ]
     },
     "execution_count": 70,
     "metadata": {},
     "output_type": "execute_result"
    }
   ],
   "source": [
    "## To check the number unique values in the the \"loan_data_str[:, 5]\"\n",
    "## Which is equivalent to the number of statess in the US,  we however have one that is missing \"Iowa/ Ia\"\n",
    "np.unique(loan_data_str[:, 5]).size"
   ]
  },
  {
   "cell_type": "code",
   "execution_count": 71,
   "id": "186df8a3",
   "metadata": {},
   "outputs": [
    {
     "data": {
      "text/plain": [
       "(array(['', 'AK', 'AL', 'AR', 'AZ', 'CA', 'CO', 'CT', 'DC', 'DE', 'FL', 'GA', 'HI', 'IL', 'IN',\n",
       "        'KS', 'KY', 'LA', 'MA', 'MD', 'ME', 'MI', 'MN', 'MO', 'MS', 'MT', 'NC', 'ND', 'NE', 'NH',\n",
       "        'NJ', 'NM', 'NV', 'NY', 'OH', 'OK', 'OR', 'PA', 'RI', 'SC', 'SD', 'TN', 'TX', 'UT', 'VA',\n",
       "        'VT', 'WA', 'WI', 'WV', 'WY'], dtype='<U69'),\n",
       " array([ 500,   26,  119,   74,  220, 1336,  201,  143,   27,   27,  690,  321,   44,  389,  152,\n",
       "          84,   84,  116,  210,  222,   10,  267,  156,  160,   61,   28,  261,   16,   25,   58,\n",
       "         341,   57,  130,  777,  312,   83,  108,  320,   40,  107,   24,  143,  758,   74,  242,\n",
       "          17,  216,  148,   49,   27], dtype=int64))"
      ]
     },
     "execution_count": 71,
     "metadata": {},
     "output_type": "execute_result"
    }
   ],
   "source": [
    "### To check the number of time each state appears\n",
    "np.unique(loan_data_str[:, 5], return_counts = True)"
   ]
  },
  {
   "cell_type": "code",
   "execution_count": 72,
   "id": "4edf7896",
   "metadata": {},
   "outputs": [
    {
     "data": {
      "text/plain": [
       "array([['', 'AK', 'AL', 'AR', 'AZ', 'CA', 'CO', 'CT', 'DC', 'DE', 'FL', 'GA', 'HI', 'IL', 'IN',\n",
       "        'KS', 'KY', 'LA', 'MA', 'MD', 'ME', 'MI', 'MN', 'MO', 'MS', 'MT', 'NC', 'ND', 'NE', 'NH',\n",
       "        'NJ', 'NM', 'NV', 'NY', 'OH', 'OK', 'OR', 'PA', 'RI', 'SC', 'SD', 'TN', 'TX', 'UT', 'VA',\n",
       "        'VT', 'WA', 'WI', 'WV', 'WY'],\n",
       "       ['500', '26', '119', '74', '220', '1336', '201', '143', '27', '27', '690', '321', '44',\n",
       "        '389', '152', '84', '84', '116', '210', '222', '10', '267', '156', '160', '61', '28',\n",
       "        '261', '16', '25', '58', '341', '57', '130', '777', '312', '83', '108', '320', '40',\n",
       "        '107', '24', '143', '758', '74', '242', '17', '216', '148', '49', '27']], dtype='<U69')"
      ]
     },
     "execution_count": 72,
     "metadata": {},
     "output_type": "execute_result"
    }
   ],
   "source": [
    "## let'sort the number of state application is descending order\n",
    "states_countAndname = np.array(np.unique(loan_data_str[:, 5], return_counts = True))\n",
    "states_countAndname"
   ]
  },
  {
   "cell_type": "code",
   "execution_count": 73,
   "id": "07a93a68",
   "metadata": {},
   "outputs": [
    {
     "data": {
      "text/plain": [
       "(2, 50)"
      ]
     },
     "execution_count": 73,
     "metadata": {},
     "output_type": "execute_result"
    }
   ],
   "source": [
    "states_countAndname.shape"
   ]
  },
  {
   "cell_type": "code",
   "execution_count": 74,
   "id": "d2a8c9d3",
   "metadata": {},
   "outputs": [
    {
     "data": {
      "text/plain": [
       "array([['', '500'],\n",
       "       ['AK', '26'],\n",
       "       ['AL', '119'],\n",
       "       ['AR', '74'],\n",
       "       ['AZ', '220'],\n",
       "       ['CA', '1336'],\n",
       "       ['CO', '201'],\n",
       "       ['CT', '143'],\n",
       "       ['DC', '27'],\n",
       "       ['DE', '27'],\n",
       "       ['FL', '690'],\n",
       "       ['GA', '321'],\n",
       "       ['HI', '44'],\n",
       "       ['IL', '389'],\n",
       "       ['IN', '152'],\n",
       "       ['KS', '84'],\n",
       "       ['KY', '84'],\n",
       "       ['LA', '116'],\n",
       "       ['MA', '210'],\n",
       "       ['MD', '222'],\n",
       "       ['ME', '10'],\n",
       "       ['MI', '267'],\n",
       "       ['MN', '156'],\n",
       "       ['MO', '160'],\n",
       "       ['MS', '61'],\n",
       "       ['MT', '28'],\n",
       "       ['NC', '261'],\n",
       "       ['ND', '16'],\n",
       "       ['NE', '25'],\n",
       "       ['NH', '58'],\n",
       "       ['NJ', '341'],\n",
       "       ['NM', '57'],\n",
       "       ['NV', '130'],\n",
       "       ['NY', '777'],\n",
       "       ['OH', '312'],\n",
       "       ['OK', '83'],\n",
       "       ['OR', '108'],\n",
       "       ['PA', '320'],\n",
       "       ['RI', '40'],\n",
       "       ['SC', '107'],\n",
       "       ['SD', '24'],\n",
       "       ['TN', '143'],\n",
       "       ['TX', '758'],\n",
       "       ['UT', '74'],\n",
       "       ['VA', '242'],\n",
       "       ['VT', '17'],\n",
       "       ['WA', '216'],\n",
       "       ['WI', '148'],\n",
       "       ['WV', '49'],\n",
       "       ['WY', '27']], dtype='<U69')"
      ]
     },
     "execution_count": 74,
     "metadata": {},
     "output_type": "execute_result"
    }
   ],
   "source": [
    "states_countAndname = states_countAndname.transpose()\n",
    "states_countAndname"
   ]
  },
  {
   "cell_type": "code",
   "execution_count": 75,
   "id": "3cfd47d5",
   "metadata": {},
   "outputs": [
    {
     "data": {
      "text/plain": [
       "array([['ME', '10'],\n",
       "       ['ND', '16'],\n",
       "       ['VT', '17'],\n",
       "       ['SD', '24'],\n",
       "       ['NE', '25'],\n",
       "       ['AK', '26'],\n",
       "       ['WY', '27'],\n",
       "       ['DC', '27'],\n",
       "       ['DE', '27'],\n",
       "       ['MT', '28'],\n",
       "       ['RI', '40'],\n",
       "       ['HI', '44'],\n",
       "       ['WV', '49'],\n",
       "       ['NM', '57'],\n",
       "       ['NH', '58'],\n",
       "       ['MS', '61'],\n",
       "       ['UT', '74'],\n",
       "       ['AR', '74'],\n",
       "       ['OK', '83'],\n",
       "       ['KY', '84'],\n",
       "       ['KS', '84'],\n",
       "       ['SC', '107'],\n",
       "       ['OR', '108'],\n",
       "       ['LA', '116'],\n",
       "       ['AL', '119'],\n",
       "       ['NV', '130'],\n",
       "       ['CT', '143'],\n",
       "       ['TN', '143'],\n",
       "       ['WI', '148'],\n",
       "       ['IN', '152'],\n",
       "       ['MN', '156'],\n",
       "       ['MO', '160'],\n",
       "       ['CO', '201'],\n",
       "       ['MA', '210'],\n",
       "       ['WA', '216'],\n",
       "       ['AZ', '220'],\n",
       "       ['MD', '222'],\n",
       "       ['VA', '242'],\n",
       "       ['NC', '261'],\n",
       "       ['MI', '267'],\n",
       "       ['OH', '312'],\n",
       "       ['PA', '320'],\n",
       "       ['GA', '321'],\n",
       "       ['NJ', '341'],\n",
       "       ['IL', '389'],\n",
       "       ['', '500'],\n",
       "       ['FL', '690'],\n",
       "       ['TX', '758'],\n",
       "       ['NY', '777'],\n",
       "       ['CA', '1336']], dtype='<U69')"
      ]
     },
     "execution_count": 75,
     "metadata": {},
     "output_type": "execute_result"
    }
   ],
   "source": [
    "### lets sort is an assending order\n",
    "states_countAndname = states_countAndname[np.argsort(states_countAndname[:, 1].astype(np.int32))]\n",
    "states_countAndname"
   ]
  },
  {
   "cell_type": "code",
   "execution_count": 76,
   "id": "17bbb592",
   "metadata": {},
   "outputs": [
    {
     "data": {
      "text/plain": [
       "array([['CA', '1336'],\n",
       "       ['NY', '777'],\n",
       "       ['TX', '758'],\n",
       "       ['FL', '690'],\n",
       "       ['', '500'],\n",
       "       ['IL', '389'],\n",
       "       ['NJ', '341'],\n",
       "       ['GA', '321'],\n",
       "       ['PA', '320'],\n",
       "       ['OH', '312'],\n",
       "       ['MI', '267'],\n",
       "       ['NC', '261'],\n",
       "       ['VA', '242'],\n",
       "       ['MD', '222'],\n",
       "       ['AZ', '220'],\n",
       "       ['WA', '216'],\n",
       "       ['MA', '210'],\n",
       "       ['CO', '201'],\n",
       "       ['MO', '160'],\n",
       "       ['MN', '156'],\n",
       "       ['IN', '152'],\n",
       "       ['WI', '148'],\n",
       "       ['TN', '143'],\n",
       "       ['CT', '143'],\n",
       "       ['NV', '130'],\n",
       "       ['AL', '119'],\n",
       "       ['LA', '116'],\n",
       "       ['OR', '108'],\n",
       "       ['SC', '107'],\n",
       "       ['KS', '84'],\n",
       "       ['KY', '84'],\n",
       "       ['OK', '83'],\n",
       "       ['AR', '74'],\n",
       "       ['UT', '74'],\n",
       "       ['MS', '61'],\n",
       "       ['NH', '58'],\n",
       "       ['NM', '57'],\n",
       "       ['WV', '49'],\n",
       "       ['HI', '44'],\n",
       "       ['RI', '40'],\n",
       "       ['MT', '28'],\n",
       "       ['DE', '27'],\n",
       "       ['DC', '27'],\n",
       "       ['WY', '27'],\n",
       "       ['AK', '26'],\n",
       "       ['NE', '25'],\n",
       "       ['SD', '24'],\n",
       "       ['VT', '17'],\n",
       "       ['ND', '16'],\n",
       "       ['ME', '10']], dtype='<U69')"
      ]
     },
     "execution_count": 76,
     "metadata": {},
     "output_type": "execute_result"
    }
   ],
   "source": [
    "## Lets sort in ascending order, to sort in descending order we add \"[::-1]\"\n",
    "states_countAndname = states_countAndname[np.argsort(states_countAndname[:, 1].astype(np.int32))[::-1]]\n",
    "states_countAndname"
   ]
  },
  {
   "cell_type": "code",
   "execution_count": 77,
   "id": "a88411ec",
   "metadata": {},
   "outputs": [
    {
     "data": {
      "text/plain": [
       "array(['0', 'AK', 'AL', 'AR', 'AZ', 'CA', 'CO', 'CT', 'DC', 'DE', 'FL', 'GA', 'HI', 'IL', 'IN',\n",
       "       'KS', 'KY', 'LA', 'MA', 'MD', 'ME', 'MI', 'MN', 'MO', 'MS', 'MT', 'NC', 'ND', 'NE', 'NH',\n",
       "       'NJ', 'NM', 'NV', 'NY', 'OH', 'OK', 'OR', 'PA', 'RI', 'SC', 'SD', 'TN', 'TX', 'UT', 'VA',\n",
       "       'VT', 'WA', 'WI', 'WV', 'WY'], dtype='<U69')"
      ]
     },
     "execution_count": 77,
     "metadata": {},
     "output_type": "execute_result"
    }
   ],
   "source": [
    "## Now lets group states \n",
    "## iowa being bank will assighn a zero to it\n",
    "loan_data_str[:, 5] = np.where(loan_data_str[:, 5] == \"\",\n",
    "                              0,\n",
    "                              loan_data_str[:, 5])\n",
    "np.unique(loan_data_str[:, 5])"
   ]
  },
  {
   "cell_type": "code",
   "execution_count": 78,
   "id": "4722fffc",
   "metadata": {},
   "outputs": [],
   "source": [
    "states_west = np.array(['WA', 'OR', 'CA', 'NV', 'ID', 'MT', 'WY', 'UT', 'CO', 'AZ', 'NM', 'HI', 'AK'])\n",
    "states_south = np.array(['TX', 'OK', 'AR','LA', 'MS', 'AL', 'TN', 'KY', 'FL', 'SC', 'GA', 'NC', 'VA','WV', 'MD', 'DE', 'DC'])\n",
    "states_midwest = np.array(['ND', 'SD', 'NE', 'KS', 'MN', 'IA', 'MD', 'WI','IL', 'IN', 'MI', 'OH'])\n",
    "states_east = np.array(['PA', 'NY', 'NJ', 'CT', 'MA', 'VT', 'NH', 'ME', 'RI'])"
   ]
  },
  {
   "cell_type": "code",
   "execution_count": 79,
   "id": "9b491667",
   "metadata": {},
   "outputs": [],
   "source": [
    "## To replace this we'll the values in \"loan_data_str[:, 5]\"\n",
    "loan_data_str[:, 5] = np.where(np.isin(loan_data_str[:, 5], states_west), 1, loan_data_str[:, 5])\n",
    "loan_data_str[:, 5] = np.where(np.isin(loan_data_str[:, 5], states_south), 2, loan_data_str[:, 5])\n",
    "loan_data_str[:, 5] = np.where(np.isin(loan_data_str[:, 5], states_midwest), 3, loan_data_str[:, 5])\n",
    "loan_data_str[:, 5] = np.where(np.isin(loan_data_str[:, 5], states_east), 4, loan_data_str[:, 5])"
   ]
  },
  {
   "cell_type": "code",
   "execution_count": 80,
   "id": "8a015dfc",
   "metadata": {},
   "outputs": [
    {
     "data": {
      "text/plain": [
       "array(['0', '1', '2', '3', '4', 'MO'], dtype='<U69')"
      ]
     },
     "execution_count": 80,
     "metadata": {},
     "output_type": "execute_result"
    }
   ],
   "source": [
    "np.unique(loan_data_str[:, 5])"
   ]
  },
  {
   "cell_type": "code",
   "execution_count": 81,
   "id": "d138cdc4",
   "metadata": {},
   "outputs": [
    {
     "data": {
      "text/plain": [
       "array(['0', '1', '2', '3', '4'], dtype='<U69')"
      ]
     },
     "execution_count": 81,
     "metadata": {},
     "output_type": "execute_result"
    }
   ],
   "source": [
    "loan_data_str[:, 5] = np.where(loan_data_str[:, 5] == \"MO\",\n",
    "                              3,\n",
    "                              loan_data_str[:, 5])\n",
    "np.unique(loan_data_str[:, 5])"
   ]
  },
  {
   "cell_type": "code",
   "execution_count": 82,
   "id": "e7837775",
   "metadata": {},
   "outputs": [
    {
     "data": {
      "text/plain": [
       "(array(['0', '1', '2', '3', '4'], dtype='<U69'),\n",
       " array([ 500, 2467, 3384, 1733, 1916], dtype=int64))"
      ]
     },
     "execution_count": 82,
     "metadata": {},
     "output_type": "execute_result"
    }
   ],
   "source": [
    "np.unique(loan_data_str[:, 5], return_counts = True)"
   ]
  },
  {
   "cell_type": "markdown",
   "id": "e9765c43",
   "metadata": {},
   "source": [
    "### Convert string with numeric characters into integers"
   ]
  },
  {
   "cell_type": "code",
   "execution_count": 83,
   "id": "85a30649",
   "metadata": {},
   "outputs": [
    {
     "data": {
      "text/plain": [
       "array([['5', '1', '36', '13', '1', '1'],\n",
       "       ['0', '1', '36', '5', '1', '4'],\n",
       "       ['9', '1', '36', '10', '1', '4'],\n",
       "       ...,\n",
       "       ['6', '1', '36', '5', '1', '1'],\n",
       "       ['4', '1', '36', '17', '1', '3'],\n",
       "       ['12', '1', '36', '4', '0', '3']], dtype='<U69')"
      ]
     },
     "execution_count": 83,
     "metadata": {},
     "output_type": "execute_result"
    }
   ],
   "source": [
    "### Convert the numeric data saved as text in int.\n",
    "loan_data_str"
   ]
  },
  {
   "cell_type": "markdown",
   "id": "22f75bc0",
   "metadata": {},
   "source": [
    "### Manupulating Numeric Columns"
   ]
  },
  {
   "cell_type": "code",
   "execution_count": 84,
   "id": "3e94d702",
   "metadata": {},
   "outputs": [
    {
     "data": {
      "text/plain": [
       "array([[48010226,    35000,    35000,       13,     1184,     9452],\n",
       "       [57693261,    30000,    30000, 68616521,      938,     4679],\n",
       "       [59432726,    15000,    15000, 68616521,      494,     1969],\n",
       "       ...,\n",
       "       [50415990,    10000,    10000, 68616521, 68616521,     2185],\n",
       "       [46154151, 68616521,    10000,       16,      354,     3199],\n",
       "       [66055249,    10000,    10000, 68616521,      309,      301]])"
      ]
     },
     "execution_count": 84,
     "metadata": {},
     "output_type": "execute_result"
    }
   ],
   "source": [
    "loan_data_int"
   ]
  },
  {
   "cell_type": "code",
   "execution_count": 85,
   "id": "75b70b2a",
   "metadata": {},
   "outputs": [
    {
     "data": {
      "text/plain": [
       "0"
      ]
     },
     "execution_count": 85,
     "metadata": {},
     "output_type": "execute_result"
    }
   ],
   "source": [
    "np.isnan(loan_data_int).sum()"
   ]
  },
  {
   "cell_type": "code",
   "execution_count": 86,
   "id": "8b42ddc8",
   "metadata": {},
   "outputs": [
    {
     "data": {
      "text/plain": [
       "array(['id', 'loan_amnt', 'funded_amnt', 'int_rate', 'installment', 'total_pymnt'], dtype='<U19')"
      ]
     },
     "execution_count": 86,
     "metadata": {},
     "output_type": "execute_result"
    }
   ],
   "source": [
    "header_int"
   ]
  },
  {
   "cell_type": "markdown",
   "id": "0a9a3b0c",
   "metadata": {},
   "source": [
    "### Id"
   ]
  },
  {
   "cell_type": "code",
   "execution_count": 87,
   "id": "a629e789",
   "metadata": {},
   "outputs": [
    {
     "data": {
      "text/plain": [
       "68616521.0"
      ]
     },
     "execution_count": 87,
     "metadata": {},
     "output_type": "execute_result"
    }
   ],
   "source": [
    "temporary_fill"
   ]
  },
  {
   "cell_type": "code",
   "execution_count": 88,
   "id": "6439a814",
   "metadata": {},
   "outputs": [
    {
     "data": {
      "text/plain": [
       "0"
      ]
     },
     "execution_count": 88,
     "metadata": {},
     "output_type": "execute_result"
    }
   ],
   "source": [
    "### Check if we have temporary fill in the Id column\n",
    "np.isin(loan_data_int[:, 0], temporary_fill).sum()"
   ]
  },
  {
   "cell_type": "code",
   "execution_count": 89,
   "id": "31c801a1",
   "metadata": {},
   "outputs": [
    {
     "data": {
      "text/plain": [
       "array([[  373332. ,        nan,     1000. ,        nan,     1000. ,        nan,        6. ,\n",
       "              31.4,        nan,        nan,        nan,        nan,        nan,        0. ],\n",
       "       [54015809.2,        nan,    15273.5,        nan,    15311. ,        nan,       16.6,\n",
       "             440.9,        nan,        nan,        nan,        nan,        nan,     3143.9],\n",
       "       [68616519. ,        nan,    35000. ,        nan,    35000. ,        nan,       29. ,\n",
       "            1373. ,        nan,        nan,        nan,        nan,        nan,    41913.6]])"
      ]
     },
     "execution_count": 89,
     "metadata": {},
     "output_type": "execute_result"
    }
   ],
   "source": [
    "## temporary_stats\n",
    "## the columns represent the min, mean and max in the the respective order.\n",
    "## min being on top\n",
    "temporary_stats"
   ]
  },
  {
   "cell_type": "code",
   "execution_count": 90,
   "id": "18ecdd13",
   "metadata": {},
   "outputs": [
    {
     "data": {
      "text/plain": [
       "array([[  373332. ,     1000. ,     1000. ,        6. ,       31.4,        0. ],\n",
       "       [54015809.2,    15273.5,    15311. ,       16.6,      440.9,     3143.9],\n",
       "       [68616519. ,    35000. ,    35000. ,       29. ,     1373. ,    41913.6]])"
      ]
     },
     "execution_count": 90,
     "metadata": {},
     "output_type": "execute_result"
    }
   ],
   "source": [
    "temporary_stats[:, int_col]"
   ]
  },
  {
   "cell_type": "code",
   "execution_count": 91,
   "id": "583a8ae8",
   "metadata": {},
   "outputs": [
    {
     "name": "stdout",
     "output_type": "stream",
     "text": [
      "(3, 6)\n"
     ]
    }
   ],
   "source": [
    "print(temporary_stats[:, int_col].shape)"
   ]
  },
  {
   "cell_type": "code",
   "execution_count": 92,
   "id": "f99f240b",
   "metadata": {},
   "outputs": [
    {
     "data": {
      "text/plain": [
       "array([[0, 0],\n",
       "       [0, 1],\n",
       "       [0, 2],\n",
       "       [0, 3],\n",
       "       [0, 4],\n",
       "       [1, 0],\n",
       "       [1, 1],\n",
       "       [1, 2],\n",
       "       [1, 3],\n",
       "       [1, 4],\n",
       "       [1, 5],\n",
       "       [2, 0],\n",
       "       [2, 1],\n",
       "       [2, 2],\n",
       "       [2, 3],\n",
       "       [2, 4],\n",
       "       [2, 5]], dtype=int64)"
      ]
     },
     "execution_count": 92,
     "metadata": {},
     "output_type": "execute_result"
    }
   ],
   "source": [
    "### lets check the position of eah element\n",
    "np.argwhere(temporary_stats[:, int_col]).squeeze()"
   ]
  },
  {
   "cell_type": "code",
   "execution_count": 93,
   "id": "9f208b2a",
   "metadata": {},
   "outputs": [
    {
     "name": "stdout",
     "output_type": "stream",
     "text": [
      "[ 1000. 15311. 35000.]\n",
      "1000.0\n"
     ]
    }
   ],
   "source": [
    "print(temporary_stats[:, int_col[2]])\n",
    "print(temporary_stats[0, int_col[2]])"
   ]
  },
  {
   "cell_type": "markdown",
   "id": "22ba0cdf",
   "metadata": {},
   "source": [
    "### funded_amnt"
   ]
  },
  {
   "cell_type": "code",
   "execution_count": 94,
   "id": "1186a360",
   "metadata": {},
   "outputs": [
    {
     "data": {
      "text/plain": [
       "array([35000, 30000, 15000, ..., 10000, 10000, 10000])"
      ]
     },
     "execution_count": 94,
     "metadata": {},
     "output_type": "execute_result"
    }
   ],
   "source": [
    "loan_data_int[:, 2]"
   ]
  },
  {
   "cell_type": "code",
   "execution_count": 95,
   "id": "6c6a6d9d",
   "metadata": {},
   "outputs": [
    {
     "data": {
      "text/plain": [
       "array([35000, 30000, 15000, ..., 10000, 10000, 10000])"
      ]
     },
     "execution_count": 95,
     "metadata": {},
     "output_type": "execute_result"
    }
   ],
   "source": [
    "loan_data_int[:, 2] = np.where(loan_data_int[:, 2] == temporary_fill,\n",
    "                              temporary_stats[0, int_col[2]],\n",
    "                              loan_data_int[:, 2])\n",
    "loan_data_int[:, 2]"
   ]
  },
  {
   "cell_type": "code",
   "execution_count": 96,
   "id": "3ecbf7e4",
   "metadata": {},
   "outputs": [
    {
     "data": {
      "text/plain": [
       "{'id': array([0], dtype=int64),\n",
       " 'loan_amnt': array([1], dtype=int64),\n",
       " 'funded_amnt': array([2], dtype=int64),\n",
       " 'int_rate': array([3], dtype=int64),\n",
       " 'installment': array([4], dtype=int64),\n",
       " 'total_pymnt': array([5], dtype=int64)}"
      ]
     },
     "execution_count": 96,
     "metadata": {},
     "output_type": "execute_result"
    }
   ],
   "source": [
    "### Let's see each header element and it's position\n",
    "### We'd like to replace missing values/temporary_fill in \"loan_amnt\", \"int_rate\", \"installment\", \"total_pymnt\"\n",
    "### with max values\n",
    "h = header_int\n",
    "j = np.argwhere(header_int)\n",
    "k = dict(zip(h, j))\n",
    "k"
   ]
  },
  {
   "cell_type": "code",
   "execution_count": 97,
   "id": "86dc32cd",
   "metadata": {},
   "outputs": [
    {
     "data": {
      "text/plain": [
       "array([1, 3, 4, 5])"
      ]
     },
     "execution_count": 97,
     "metadata": {},
     "output_type": "execute_result"
    }
   ],
   "source": [
    "l = np.array([1, 3, 4, 5])\n",
    "l"
   ]
  },
  {
   "cell_type": "code",
   "execution_count": 98,
   "id": "51ea304a",
   "metadata": {},
   "outputs": [],
   "source": [
    "for i in l:\n",
    "    loan_data_int[:, i] = np.where(loan_data_int[: ,i] == temporary_fill,\n",
    "                               temporary_stats[2, int_col[i]],\n",
    "                               loan_data_int[:, i])"
   ]
  },
  {
   "cell_type": "code",
   "execution_count": 99,
   "id": "a2ef8418",
   "metadata": {},
   "outputs": [
    {
     "data": {
      "text/plain": [
       "array([[48010226,    35000,    35000,       13,     1184,     9452],\n",
       "       [57693261,    30000,    30000,       28,      938,     4679],\n",
       "       [59432726,    15000,    15000,       28,      494,     1969],\n",
       "       ...,\n",
       "       [50415990,    10000,    10000,       28,     1372,     2185],\n",
       "       [46154151,    35000,    10000,       16,      354,     3199],\n",
       "       [66055249,    10000,    10000,       28,      309,      301]])"
      ]
     },
     "execution_count": 99,
     "metadata": {},
     "output_type": "execute_result"
    }
   ],
   "source": [
    "loan_data_int"
   ]
  },
  {
   "cell_type": "code",
   "execution_count": 100,
   "id": "b9fc2759",
   "metadata": {},
   "outputs": [],
   "source": [
    "filepath1 = \"C:\\\\Users\\\\LENOVO\\\\Downloads\\\\EUR-USD.csv\""
   ]
  },
  {
   "cell_type": "code",
   "execution_count": 101,
   "id": "c9d020bb",
   "metadata": {},
   "outputs": [
    {
     "data": {
      "text/plain": [
       "array([['Open', 'High', 'Low', 'Close', 'Volume'],\n",
       "       ['1.2098628282546997', '1.2098628282546997', '1.11055588722229', '1.1287955045700073', '0'],\n",
       "       ['1.1287955045700073', '1.1484194993972778', '1.117680549621582', '1.1205360889434814',\n",
       "        '0'],\n",
       "       ['1.119795799255371', '1.1240400075912476', '1.0460032224655151', '1.0830246210098267',\n",
       "        '0'],\n",
       "       ['1.0741022825241089', '1.1247594356536865', '1.0521597862243652', '1.1114321947097778',\n",
       "        '0'],\n",
       "       ['1.1215037107467651', '1.145304799079895', '1.0821995735168457', '1.0960345268249512',\n",
       "        '0'],\n",
       "       ['1.095902442932129', '1.1428401470184326', '1.0888904333114624', '1.122296690940857', '0'],\n",
       "       ['1.1134989261627197', '1.1219995021820068', '1.081270456314087', '1.0939244031906128',\n",
       "        '0'],\n",
       "       ['1.0969001054763794', '1.1705996990203857', '1.0850305557250977', '1.1340054273605347',\n",
       "        '0'],\n",
       "       ['1.1225990056991577', '1.1460003852844238', '1.1089695692062378', '1.1255937814712524',\n",
       "        '0'],\n",
       "       ['1.1171561479568481', '1.1494200229644775', '1.0910003185272217', '1.100897192955017',\n",
       "        '0'],\n",
       "       ['1.1024993658065796', '1.1060001850128174', '1.056400179862976', '1.0583018064498901',\n",
       "        '0'],\n",
       "       ['1.0572947263717651', '1.107000470161438', '1.0541995763778687', '1.093398094177246', '0']],\n",
       "      dtype='<U18')"
      ]
     },
     "execution_count": 101,
     "metadata": {},
     "output_type": "execute_result"
    }
   ],
   "source": [
    "## This data set, represents the exchange rate for the year.\n",
    "## Shows the the open, high low and rate at the close of every  month.  \n",
    "EUR_USD_org = np.genfromtxt(filepath1, \n",
    "                       delimiter = \",\",\n",
    "                       autostrip = True, \n",
    "                       dtype = str)\n",
    "EUR_USD_org"
   ]
  },
  {
   "cell_type": "code",
   "execution_count": 102,
   "id": "4bc73158",
   "metadata": {},
   "outputs": [
    {
     "data": {
      "text/plain": [
       "array(['1.1287955045700073', '1.1205360889434814', '1.0830246210098267', '1.1114321947097778',\n",
       "       '1.0960345268249512', '1.122296690940857', '1.0939244031906128', '1.1340054273605347',\n",
       "       '1.1255937814712524', '1.100897192955017', '1.0583018064498901', '1.093398094177246'],\n",
       "      dtype='<U18')"
      ]
     },
     "execution_count": 102,
     "metadata": {},
     "output_type": "execute_result"
    }
   ],
   "source": [
    "## We are not inrested in in the volume column so we'll import the data set without the it\n",
    "EUR_USD = np.genfromtxt(filepath1, \n",
    "                       delimiter = \",\",\n",
    "                       autostrip = True,\n",
    "                       skip_header = 1, \n",
    "                       usecols = 3, \n",
    "                       dtype = str)\n",
    "EUR_USD"
   ]
  },
  {
   "cell_type": "code",
   "execution_count": 103,
   "id": "5ca49b3c",
   "metadata": {},
   "outputs": [
    {
     "data": {
      "text/plain": [
       "(12,)"
      ]
     },
     "execution_count": 103,
     "metadata": {},
     "output_type": "execute_result"
    }
   ],
   "source": [
    "EUR_USD.shape"
   ]
  },
  {
   "cell_type": "code",
   "execution_count": 104,
   "id": "d527b422",
   "metadata": {},
   "outputs": [
    {
     "data": {
      "text/plain": [
       "array([1.1, 1.1, 1.1, 1.1, 1.1, 1.1, 1.1, 1.1, 1.1, 1.1, 1.1, 1.1])"
      ]
     },
     "execution_count": 104,
     "metadata": {},
     "output_type": "execute_result"
    }
   ],
   "source": [
    "np.round(EUR_USD.astype(dtype = np.float64), decimals = 2 )"
   ]
  },
  {
   "cell_type": "code",
   "execution_count": 105,
   "id": "41d34547",
   "metadata": {},
   "outputs": [
    {
     "name": "stdout",
     "output_type": "stream",
     "text": [
      "['5' '0' '9' ... '6' '4' '12']\n",
      "issue_date\n"
     ]
    }
   ],
   "source": [
    "print(loan_data_str[:, 0])\n",
    "print(header_str[0])"
   ]
  },
  {
   "cell_type": "code",
   "execution_count": 106,
   "id": "6365cb10",
   "metadata": {},
   "outputs": [
    {
     "data": {
      "text/plain": [
       "13"
      ]
     },
     "execution_count": 106,
     "metadata": {},
     "output_type": "execute_result"
    }
   ],
   "source": [
    "### to check how many unique variables are there \n",
    "np.count_nonzero(np.unique(loan_data_str[:, 0]))"
   ]
  },
  {
   "cell_type": "code",
   "execution_count": 107,
   "id": "dac1f322",
   "metadata": {},
   "outputs": [
    {
     "data": {
      "text/plain": [
       "array(['1.1287955045700073', '1.1205360889434814', '1.0830246210098267', '1.1114321947097778',\n",
       "       '1.0960345268249512', '1.122296690940857', '1.0939244031906128', '1.1340054273605347',\n",
       "       '1.1255937814712524', '1.100897192955017', '1.0583018064498901', '1.093398094177246'],\n",
       "      dtype='<U18')"
      ]
     },
     "execution_count": 107,
     "metadata": {},
     "output_type": "execute_result"
    }
   ],
   "source": [
    "## We are not inrested in in the volume column so we'll import the data set without the it\n",
    "EUR_USD = np.genfromtxt(filepath1, \n",
    "                       delimiter = \",\",\n",
    "                       autostrip = True,\n",
    "                       skip_header = 1, \n",
    "                       usecols = 3, \n",
    "                       dtype = str)\n",
    "EUR_USD"
   ]
  },
  {
   "cell_type": "code",
   "execution_count": 108,
   "id": "4a5528dc",
   "metadata": {},
   "outputs": [
    {
     "data": {
      "text/plain": [
       "array([1.1, 1.1, 1.1, 1.1, 1.1, 1.1, 1.1, 1.1, 1.1, 1.1, 1.1, 1.1])"
      ]
     },
     "execution_count": 108,
     "metadata": {},
     "output_type": "execute_result"
    }
   ],
   "source": [
    "EUR_USD = EUR_USD.astype(dtype = np.float64)\n",
    "EUR_USD"
   ]
  },
  {
   "cell_type": "code",
   "execution_count": 109,
   "id": "553ebaf6",
   "metadata": {},
   "outputs": [
    {
     "data": {
      "text/plain": [
       "array(['5', '0', '9', ..., '6', '4', '12'], dtype='<U69')"
      ]
     },
     "execution_count": 109,
     "metadata": {},
     "output_type": "execute_result"
    }
   ],
   "source": [
    "### Let's create a new column, call it  \"exchange_rate\"\n",
    "exchange_rate = loan_data_str[:, 0]\n",
    "exchange_rate"
   ]
  },
  {
   "cell_type": "code",
   "execution_count": 110,
   "id": "efc9282e",
   "metadata": {},
   "outputs": [
    {
     "data": {
      "text/plain": [
       "array([ 5,  0,  9, ...,  6,  4, 12])"
      ]
     },
     "execution_count": 110,
     "metadata": {},
     "output_type": "execute_result"
    }
   ],
   "source": [
    "exchange_rate = exchange_rate.astype(dtype = int)\n",
    "exchange_rate"
   ]
  },
  {
   "cell_type": "code",
   "execution_count": 111,
   "id": "2e5064d8",
   "metadata": {},
   "outputs": [
    {
     "data": {
      "text/plain": [
       "(10000,)"
      ]
     },
     "execution_count": 111,
     "metadata": {},
     "output_type": "execute_result"
    }
   ],
   "source": [
    "exchange_rate.shape"
   ]
  },
  {
   "cell_type": "code",
   "execution_count": 112,
   "id": "2badfc0c",
   "metadata": {},
   "outputs": [
    {
     "data": {
      "text/plain": [
       "1.1056866943836212"
      ]
     },
     "execution_count": 112,
     "metadata": {},
     "output_type": "execute_result"
    }
   ],
   "source": [
    "p = np.mean(EUR_USD)\n",
    "p"
   ]
  },
  {
   "cell_type": "code",
   "execution_count": 113,
   "id": "11886a2e",
   "metadata": {},
   "outputs": [
    {
     "data": {
      "text/plain": [
       "array([ 5. ,  1.1,  9. , ...,  6. ,  4. , 12. ])"
      ]
     },
     "execution_count": 113,
     "metadata": {},
     "output_type": "execute_result"
    }
   ],
   "source": [
    "## Lets replace the \"0\" zero values in exchange rate with the mean of \"EUR_USD\"\n",
    "### When it's a one dimentional array ypu don't have to place [i] in\n",
    "exchange_rate = np.where(exchange_rate == 0,\n",
    "                         p,\n",
    "                         exchange_rate)\n",
    "exchange_rate"
   ]
  },
  {
   "cell_type": "code",
   "execution_count": 114,
   "id": "92832e13",
   "metadata": {},
   "outputs": [
    {
     "data": {
      "text/plain": [
       "array([1.1, 1.1, 1.1, ..., 1.1, 1.1, 1.1])"
      ]
     },
     "execution_count": 114,
     "metadata": {},
     "output_type": "execute_result"
    }
   ],
   "source": [
    "# we'd like to have every month with with it's corresponding exchange rate from 'EUR_USD' dataset\n",
    "# We'll replace the every month in the new exchange_rate np array with it's corresponding exchange rate\n",
    "\n",
    "for i in range(1, 13):\n",
    "    exchange_rate = np.where(exchange_rate == i,\n",
    "                               EUR_USD[i-1],\n",
    "                               exchange_rate)\n",
    "    \n",
    "exchange_rate"
   ]
  },
  {
   "cell_type": "code",
   "execution_count": 115,
   "id": "095714ac",
   "metadata": {},
   "outputs": [
    {
     "name": "stdout",
     "output_type": "stream",
     "text": [
      "(10000,)\n",
      "(10000, 6)\n"
     ]
    }
   ],
   "source": [
    "## we'll ad the \"exchange_rate\" to the \"loan_data_int\"\n",
    "## We can perform a horizontal stack to the \"loan_data_int\"\n",
    "print(exchange_rate.shape)\n",
    "print(loan_data_int.shape)"
   ]
  },
  {
   "cell_type": "code",
   "execution_count": 116,
   "id": "fa59c7b1",
   "metadata": {},
   "outputs": [
    {
     "data": {
      "text/plain": [
       "(10000,)"
      ]
     },
     "execution_count": 116,
     "metadata": {},
     "output_type": "execute_result"
    }
   ],
   "source": [
    "exchange_rate.transpose().shape"
   ]
  },
  {
   "cell_type": "code",
   "execution_count": 117,
   "id": "cad47627",
   "metadata": {},
   "outputs": [
    {
     "data": {
      "text/plain": [
       "array([[1.1],\n",
       "       [1.1],\n",
       "       [1.1],\n",
       "       ...,\n",
       "       [1.1],\n",
       "       [1.1],\n",
       "       [1.1]])"
      ]
     },
     "execution_count": 117,
     "metadata": {},
     "output_type": "execute_result"
    }
   ],
   "source": [
    "## Transponse does not work\n",
    "## So we use reshape\n",
    "## You have to specify the shape of the output\n",
    "exchange_rate.reshape(10000, 1)"
   ]
  },
  {
   "cell_type": "code",
   "execution_count": 118,
   "id": "20888a75",
   "metadata": {},
   "outputs": [
    {
     "data": {
      "text/plain": [
       "(10000, 1)"
      ]
     },
     "execution_count": 118,
     "metadata": {},
     "output_type": "execute_result"
    }
   ],
   "source": [
    "exchange_rate =  exchange_rate.reshape(10000, 1)\n",
    "exchange_rate.shape"
   ]
  },
  {
   "cell_type": "code",
   "execution_count": 119,
   "id": "909532dd",
   "metadata": {},
   "outputs": [
    {
     "data": {
      "text/plain": [
       "array([[48010226. ,    35000. ,    35000. , ...,     1184. ,     9452. ,        1.1],\n",
       "       [57693261. ,    30000. ,    30000. , ...,      938. ,     4679. ,        1.1],\n",
       "       [59432726. ,    15000. ,    15000. , ...,      494. ,     1969. ,        1.1],\n",
       "       ...,\n",
       "       [50415990. ,    10000. ,    10000. , ...,     1372. ,     2185. ,        1.1],\n",
       "       [46154151. ,    35000. ,    10000. , ...,      354. ,     3199. ,        1.1],\n",
       "       [66055249. ,    10000. ,    10000. , ...,      309. ,      301. ,        1.1]])"
      ]
     },
     "execution_count": 119,
     "metadata": {},
     "output_type": "execute_result"
    }
   ],
   "source": [
    "### The hstack works only if the array have the same dimension\n",
    "## Notice the double brackets\n",
    "loan_data_int = np.hstack((loan_data_int, exchange_rate))\n",
    "loan_data_int"
   ]
  },
  {
   "cell_type": "code",
   "execution_count": 120,
   "id": "f3728744",
   "metadata": {},
   "outputs": [
    {
     "data": {
      "text/plain": [
       "array([1.1, 1.1, 1.1, ..., 1.1, 1.1, 1.1])"
      ]
     },
     "execution_count": 120,
     "metadata": {},
     "output_type": "execute_result"
    }
   ],
   "source": [
    "loan_data_int[:, 6]"
   ]
  },
  {
   "cell_type": "code",
   "execution_count": 121,
   "id": "1296ea74",
   "metadata": {},
   "outputs": [
    {
     "data": {
      "text/plain": [
       "array(['id', 'loan_amnt', 'funded_amnt', 'int_rate', 'installment', 'total_pymnt'], dtype='<U19')"
      ]
     },
     "execution_count": 121,
     "metadata": {},
     "output_type": "execute_result"
    }
   ],
   "source": [
    "## Let's also add exchange_rate in the header_str\n",
    "header_int"
   ]
  },
  {
   "cell_type": "code",
   "execution_count": 122,
   "id": "b69c6876",
   "metadata": {},
   "outputs": [],
   "source": [
    "### Let's concat to join the exchange rate column\n",
    "### Notice the double brackets\n",
    "\n",
    "## header_int = np.concatenate((header_int, \"exchange_rate\"))"
   ]
  },
  {
   "cell_type": "markdown",
   "id": "9429aa57",
   "metadata": {},
   "source": [
    "### From USD to EUR"
   ]
  },
  {
   "cell_type": "code",
   "execution_count": 123,
   "id": "7147a862",
   "metadata": {},
   "outputs": [
    {
     "data": {
      "text/plain": [
       "array(['id', 'loan_amnt', 'funded_amnt', 'int_rate', 'installment', 'total_pymnt', 'exchange_rate'],\n",
       "      dtype='<U19')"
      ]
     },
     "execution_count": 123,
     "metadata": {},
     "output_type": "execute_result"
    }
   ],
   "source": [
    "header_int = np.concatenate((header_int, np.array([\"exchange_rate\"])))\n",
    "header_int"
   ]
  },
  {
   "cell_type": "code",
   "execution_count": 124,
   "id": "ed34598c",
   "metadata": {},
   "outputs": [],
   "source": [
    "## Column with \"amnt\" suffix have their amounts in dolars also installment and payment\n",
    "dollar_column = np.array([1, 2, 4, 5])"
   ]
  },
  {
   "cell_type": "code",
   "execution_count": 125,
   "id": "c5608118",
   "metadata": {},
   "outputs": [
    {
     "data": {
      "text/plain": [
       "array([[35000., 35000.,  1184.,  9452.],\n",
       "       [30000., 30000.,   938.,  4679.],\n",
       "       [15000., 15000.,   494.,  1969.],\n",
       "       ...,\n",
       "       [10000., 10000.,  1372.,  2185.],\n",
       "       [35000., 10000.,   354.,  3199.],\n",
       "       [10000., 10000.,   309.,   301.]])"
      ]
     },
     "execution_count": 125,
     "metadata": {},
     "output_type": "execute_result"
    }
   ],
   "source": [
    "dollar_columns = loan_data_int[:, dollar_column]\n",
    "dollar_columns"
   ]
  },
  {
   "cell_type": "code",
   "execution_count": 126,
   "id": "4a8b1e1e",
   "metadata": {},
   "outputs": [
    {
     "data": {
      "text/plain": [
       "array([1.1, 1.1, 1.1, ..., 1.1, 1.1, 1.1])"
      ]
     },
     "execution_count": 126,
     "metadata": {},
     "output_type": "execute_result"
    }
   ],
   "source": [
    "e_rate = loan_data_int[:, 6]\n",
    "e_rate"
   ]
  },
  {
   "cell_type": "code",
   "execution_count": 127,
   "id": "79fd8838",
   "metadata": {},
   "outputs": [
    {
     "data": {
      "text/plain": [
       "array([[31933.3, 31933.3,  1080.3,  8623.8],\n",
       "       [27132.5, 27132.5,   848.3,  4231.8],\n",
       "       [13326.3, 13326.3,   438.9,  1749.3],\n",
       "       ...,\n",
       "       [ 8910.3,  8910.3,  1222.5,  1946.9],\n",
       "       [31490.9,  8997.4,   318.5,  2878.3],\n",
       "       [ 9145.8,  9145.8,   282.6,   275.3]])"
      ]
     },
     "execution_count": 127,
     "metadata": {},
     "output_type": "execute_result"
    }
   ],
   "source": [
    "### Lets create a new data frame that has the above values as in Euros\n",
    "EUR_df = dollar_columns / (e_rate.reshape(10000, 1)) \n",
    "EUR_df"
   ]
  },
  {
   "cell_type": "code",
   "execution_count": 128,
   "id": "e1aa68ca",
   "metadata": {},
   "outputs": [
    {
     "data": {
      "text/plain": [
       "array([[48010226. ,    35000. ,    35000. , ...,    31933.3,     1080.3,     8623.8],\n",
       "       [57693261. ,    30000. ,    30000. , ...,    27132.5,      848.3,     4231.8],\n",
       "       [59432726. ,    15000. ,    15000. , ...,    13326.3,      438.9,     1749.3],\n",
       "       ...,\n",
       "       [50415990. ,    10000. ,    10000. , ...,     8910.3,     1222.5,     1946.9],\n",
       "       [46154151. ,    35000. ,    10000. , ...,     8997.4,      318.5,     2878.3],\n",
       "       [66055249. ,    10000. ,    10000. , ...,     9145.8,      282.6,      275.3]])"
      ]
     },
     "execution_count": 128,
     "metadata": {},
     "output_type": "execute_result"
    }
   ],
   "source": [
    "loan_data_int = np.hstack((loan_data_int, EUR_df))\n",
    "loan_data_int"
   ]
  },
  {
   "cell_type": "code",
   "execution_count": 129,
   "id": "88e52a40",
   "metadata": {},
   "outputs": [
    {
     "data": {
      "text/plain": [
       "(10000, 11)"
      ]
     },
     "execution_count": 129,
     "metadata": {},
     "output_type": "execute_result"
    }
   ],
   "source": [
    "loan_data_int.shape"
   ]
  },
  {
   "cell_type": "code",
   "execution_count": 130,
   "id": "21855afa",
   "metadata": {},
   "outputs": [
    {
     "data": {
      "text/plain": [
       "array(['id', 'loan_amnt', 'funded_amnt', 'int_rate', 'installment', 'total_pymnt', 'exchange_rate'],\n",
       "      dtype='<U19')"
      ]
     },
     "execution_count": 130,
     "metadata": {},
     "output_type": "execute_result"
    }
   ],
   "source": [
    "header_int"
   ]
  },
  {
   "cell_type": "code",
   "execution_count": 131,
   "id": "7b1afc6e",
   "metadata": {},
   "outputs": [
    {
     "data": {
      "text/plain": [
       "array(['loan_amntEUR', 'funded_amntEUR', 'installmentEUR', 'total_pymntEUR'], dtype='<U14')"
      ]
     },
     "execution_count": 131,
     "metadata": {},
     "output_type": "execute_result"
    }
   ],
   "source": [
    "## Lets add the four column names to the 'header_int'\n",
    "headerEur = np.array([ i + 'EUR'  for i in header_int[dollar_column]])\n",
    "headerEur"
   ]
  },
  {
   "cell_type": "code",
   "execution_count": 132,
   "id": "bc4d0e46",
   "metadata": {},
   "outputs": [
    {
     "data": {
      "text/plain": [
       "array(['id', 'loan_amnt', 'funded_amnt', 'int_rate', 'installment', 'total_pymnt', 'exchange_rate',\n",
       "       'loan_amntEUR', 'funded_amntEUR', 'installmentEUR', 'total_pymntEUR'], dtype='<U19')"
      ]
     },
     "execution_count": 132,
     "metadata": {},
     "output_type": "execute_result"
    }
   ],
   "source": [
    "header_int = np.concatenate((header_int, headerEur))\n",
    "header_int"
   ]
  },
  {
   "cell_type": "code",
   "execution_count": 133,
   "id": "13a9d5ec",
   "metadata": {},
   "outputs": [
    {
     "data": {
      "text/plain": [
       "array(['id', 'loan_amntUSD', 'funded_amntUSD', 'int_rate', 'installmentUSD', 'total_pymntUSD',\n",
       "       'exchange_rate', 'loan_amntEUR', 'funded_amntEUR', 'installmentEUR', 'total_pymntEUR'],\n",
       "      dtype='<U19')"
      ]
     },
     "execution_count": 133,
     "metadata": {},
     "output_type": "execute_result"
    }
   ],
   "source": [
    "### Let's add USD to the columns with \"loan_amnt\",\"funded_amnt\", \"installment\", \"total_pymnt\"\n",
    "header_int[dollar_column] = np.array([i + \"USD\" for i in header_int[dollar_column]])\n",
    "header_int"
   ]
  },
  {
   "cell_type": "code",
   "execution_count": 134,
   "id": "a159db05",
   "metadata": {},
   "outputs": [
    {
     "data": {
      "text/plain": [
       "{'id': array([0], dtype=int64),\n",
       " 'loan_amntUSD': array([1], dtype=int64),\n",
       " 'funded_amntUSD': array([2], dtype=int64),\n",
       " 'int_rate': array([3], dtype=int64),\n",
       " 'installmentUSD': array([4], dtype=int64),\n",
       " 'total_pymntUSD': array([5], dtype=int64),\n",
       " 'exchange_rate': array([6], dtype=int64),\n",
       " 'loan_amntEUR': array([7], dtype=int64),\n",
       " 'funded_amntEUR': array([8], dtype=int64),\n",
       " 'installmentEUR': array([9], dtype=int64),\n",
       " 'total_pymntEUR': array([10], dtype=int64)}"
      ]
     },
     "execution_count": 134,
     "metadata": {},
     "output_type": "execute_result"
    }
   ],
   "source": [
    "### Let's put each column with USD and EUR next to each other\n",
    "t = header_int\n",
    "p = np.argwhere(header_int)\n",
    "pos = dict(zip(t,p))\n",
    "pos"
   ]
  },
  {
   "cell_type": "code",
   "execution_count": 135,
   "id": "1b5a03c8",
   "metadata": {},
   "outputs": [
    {
     "data": {
      "text/plain": [
       "array([ 0,  1,  7,  2,  8,  3,  4,  9,  5, 10,  6])"
      ]
     },
     "execution_count": 135,
     "metadata": {},
     "output_type": "execute_result"
    }
   ],
   "source": [
    "order = np.array([0, 1, 7, 2, 8, 3, 4, 9, 5, 10, 6])\n",
    "order"
   ]
  },
  {
   "cell_type": "code",
   "execution_count": 136,
   "id": "fe04f5c0",
   "metadata": {},
   "outputs": [
    {
     "data": {
      "text/plain": [
       "array(['id', 'loan_amntUSD', 'loan_amntEUR', 'funded_amntUSD', 'funded_amntEUR', 'int_rate',\n",
       "       'installmentUSD', 'installmentEUR', 'total_pymntUSD', 'total_pymntEUR', 'exchange_rate'],\n",
       "      dtype='<U19')"
      ]
     },
     "execution_count": 136,
     "metadata": {},
     "output_type": "execute_result"
    }
   ],
   "source": [
    "header_int = header_int[order]\n",
    "header_int"
   ]
  },
  {
   "cell_type": "code",
   "execution_count": 137,
   "id": "06144d06",
   "metadata": {},
   "outputs": [
    {
     "data": {
      "text/plain": [
       "array([[48010226. ,    35000. ,    31933.3, ...,     9452. ,     8623.8,        1.1],\n",
       "       [57693261. ,    30000. ,    27132.5, ...,     4679. ,     4231.8,        1.1],\n",
       "       [59432726. ,    15000. ,    13326.3, ...,     1969. ,     1749.3,        1.1],\n",
       "       ...,\n",
       "       [50415990. ,    10000. ,     8910.3, ...,     2185. ,     1946.9,        1.1],\n",
       "       [46154151. ,    35000. ,    31490.9, ...,     3199. ,     2878.3,        1.1],\n",
       "       [66055249. ,    10000. ,     9145.8, ...,      301. ,      275.3,        1.1]])"
      ]
     },
     "execution_count": 137,
     "metadata": {},
     "output_type": "execute_result"
    }
   ],
   "source": [
    "loan_data_int = loan_data_int[:, order]\n",
    "loan_data_int"
   ]
  },
  {
   "cell_type": "markdown",
   "id": "438c8995",
   "metadata": {},
   "source": [
    "### \"int_rate\" / Interest Rate\n"
   ]
  },
  {
   "cell_type": "code",
   "execution_count": 138,
   "id": "7f5c8f26",
   "metadata": {},
   "outputs": [
    {
     "data": {
      "text/plain": [
       "array(['id', 'loan_amntUSD', 'loan_amntEUR', 'funded_amntUSD', 'funded_amntEUR', ' Interest_Rate',\n",
       "       'installmentUSD', 'installmentEUR', 'total_pymntUSD', 'total_pymntEUR', 'exchange_rate'],\n",
       "      dtype='<U19')"
      ]
     },
     "execution_count": 138,
     "metadata": {},
     "output_type": "execute_result"
    }
   ],
   "source": [
    "### Lets have the interest rate as a decimal rather than as a percentage\n",
    "header_int[5] = \" Interest_Rate\"\n",
    "header_int"
   ]
  },
  {
   "cell_type": "code",
   "execution_count": 139,
   "id": "be032a12",
   "metadata": {},
   "outputs": [
    {
     "data": {
      "text/plain": [
       "array([13., 28., 28., ..., 28., 16., 28.])"
      ]
     },
     "execution_count": 139,
     "metadata": {},
     "output_type": "execute_result"
    }
   ],
   "source": [
    "loan_data_int[:, 5]"
   ]
  },
  {
   "cell_type": "code",
   "execution_count": 140,
   "id": "c5365528",
   "metadata": {},
   "outputs": [
    {
     "data": {
      "text/plain": [
       "array([0.1, 0.3, 0.3, ..., 0.3, 0.2, 0.3])"
      ]
     },
     "execution_count": 140,
     "metadata": {},
     "output_type": "execute_result"
    }
   ],
   "source": [
    "loan_data_int[:, 5] = loan_data_int[:, 5]/100\n",
    "loan_data_int[:, 5]"
   ]
  },
  {
   "cell_type": "code",
   "execution_count": 141,
   "id": "e0a3db3f",
   "metadata": {},
   "outputs": [],
   "source": [
    "### To print everything in a numy array\n",
    "np.set_printoptions(threshold=np.inf)"
   ]
  },
  {
   "cell_type": "code",
   "execution_count": 142,
   "id": "0e42649c",
   "metadata": {},
   "outputs": [
    {
     "data": {
      "text/plain": [
       "array([0.1, 0.3, 0.3, ..., 0.3, 0.2, 0.3])"
      ]
     },
     "execution_count": 142,
     "metadata": {},
     "output_type": "execute_result"
    }
   ],
   "source": [
    "### To restore default\n",
    "np.set_printoptions(threshold=1000)\n",
    "loan_data_int[:, 5]"
   ]
  },
  {
   "cell_type": "markdown",
   "id": "52950e0e",
   "metadata": {},
   "source": [
    "### Combine the data into one dataset"
   ]
  },
  {
   "cell_type": "code",
   "execution_count": 143,
   "id": "8c5d00c4",
   "metadata": {},
   "outputs": [
    {
     "name": "stdout",
     "output_type": "stream",
     "text": [
      "(10000, 11)\n",
      "(10000, 6)\n"
     ]
    }
   ],
   "source": [
    "print(loan_data_int.shape)\n",
    "print(loan_data_str.shape)"
   ]
  },
  {
   "cell_type": "code",
   "execution_count": 144,
   "id": "dff9e9a8",
   "metadata": {},
   "outputs": [
    {
     "data": {
      "text/plain": [
       "(10000, 17)"
      ]
     },
     "execution_count": 144,
     "metadata": {},
     "output_type": "execute_result"
    }
   ],
   "source": [
    "loan_data = np.hstack((loan_data_int, loan_data_str))\n",
    "loan_data.shape"
   ]
  },
  {
   "cell_type": "code",
   "execution_count": 145,
   "id": "c05d82a1",
   "metadata": {},
   "outputs": [
    {
     "data": {
      "text/plain": [
       "(17,)"
      ]
     },
     "execution_count": 145,
     "metadata": {},
     "output_type": "execute_result"
    }
   ],
   "source": [
    "### Lets combine the headers as well\n",
    "header_full = np.concatenate((header_int, header_str))\n",
    "header_full.shape"
   ]
  },
  {
   "cell_type": "code",
   "execution_count": 146,
   "id": "4c9619d4",
   "metadata": {},
   "outputs": [
    {
     "data": {
      "text/plain": [
       "array(['id', 'loan_amntUSD', 'loan_amntEUR', 'funded_amntUSD', 'funded_amntEUR', ' Interest_Rate',\n",
       "       'installmentUSD', 'installmentEUR', 'total_pymntUSD', 'total_pymntEUR', 'exchange_rate',\n",
       "       'issue_date', 'loan_status', 'monthTerms', 'sub_grade', 'verification_status',\n",
       "       'state_address'], dtype='<U19')"
      ]
     },
     "execution_count": 146,
     "metadata": {},
     "output_type": "execute_result"
    }
   ],
   "source": [
    "header_full"
   ]
  },
  {
   "cell_type": "code",
   "execution_count": 147,
   "id": "e542b33c",
   "metadata": {},
   "outputs": [],
   "source": [
    "### Combine the header with the dataset\n",
    "loan_data = np.vstack((header_full, loan_data))"
   ]
  },
  {
   "cell_type": "code",
   "execution_count": 148,
   "id": "a313f165",
   "metadata": {},
   "outputs": [
    {
     "data": {
      "text/plain": [
       "(10001, 17)"
      ]
     },
     "execution_count": 148,
     "metadata": {},
     "output_type": "execute_result"
    }
   ],
   "source": [
    "loan_data.shape"
   ]
  },
  {
   "cell_type": "code",
   "execution_count": 149,
   "id": "2ec51cb2",
   "metadata": {},
   "outputs": [],
   "source": [
    "## Export the dataset\n",
    "np.savetxt(\"loan_data_clean.csv\", \n",
    "           loan_data,\n",
    "           fmt = \"%s\",\n",
    "          delimiter = \",\")"
   ]
  },
  {
   "cell_type": "markdown",
   "id": "4f84b1e7",
   "metadata": {},
   "source": [
    "### Check working directory"
   ]
  },
  {
   "cell_type": "code",
   "execution_count": 150,
   "id": "af32bef8",
   "metadata": {},
   "outputs": [
    {
     "data": {
      "text/plain": [
       "'C:\\\\Users\\\\LENOVO\\\\Python Projects'"
      ]
     },
     "execution_count": 150,
     "metadata": {},
     "output_type": "execute_result"
    }
   ],
   "source": [
    "import os\n",
    "os.getcwd()"
   ]
  }
 ],
 "metadata": {
  "kernelspec": {
   "display_name": "Python 3 (ipykernel)",
   "language": "python",
   "name": "python3"
  },
  "language_info": {
   "codemirror_mode": {
    "name": "ipython",
    "version": 3
   },
   "file_extension": ".py",
   "mimetype": "text/x-python",
   "name": "python",
   "nbconvert_exporter": "python",
   "pygments_lexer": "ipython3",
   "version": "3.11.5"
  }
 },
 "nbformat": 4,
 "nbformat_minor": 5
}
